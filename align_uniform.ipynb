{
 "cells": [
  {
   "cell_type": "markdown",
   "id": "b3ae8286",
   "metadata": {},
   "source": [
    "## 가상환경\n",
    "- BERT, SBERT, SimCSE: s-bert\n",
    "- DiffCSE: diffcse\n",
    "- PromCSE: promcse"
   ]
  },
  {
   "cell_type": "code",
   "execution_count": 1,
   "id": "481f8d6a",
   "metadata": {},
   "outputs": [],
   "source": [
    "import torch\n",
    "import numpy as np\n",
    "import csv\n",
    "from tqdm.notebook import tqdm\n",
    "\n",
    "from covid_q.code.get_align_uniform import *\n",
    "\n",
    "import warnings\n",
    "warnings.filterwarnings(\"ignore\")"
   ]
  },
  {
   "cell_type": "code",
   "execution_count": 2,
   "id": "3bb06c83",
   "metadata": {},
   "outputs": [],
   "source": [
    "# class 단위\n",
    "align_csv = 'covid_q/data/class_positive_pairs.csv'\n",
    "uniform_csv = 'covid_q/data/class_train4_uniform.csv'\n",
    "uniform_all_csv = 'covid_q/data/final_master_dataset.csv'"
   ]
  },
  {
   "cell_type": "code",
   "execution_count": 2,
   "id": "d58ffd46",
   "metadata": {},
   "outputs": [],
   "source": [
    "# category 단위\n",
    "align_csv = 'covid_q/data/category_positive_pairs.csv'\n",
    "uniform_csv = 'covid_q/data/category_train20_uniform.csv'\n",
    "uniform_all_csv = 'covid_q/data/final_master_dataset.csv'"
   ]
  },
  {
   "cell_type": "markdown",
   "id": "c8041fce",
   "metadata": {},
   "source": [
    "## Output Embedding Vector Normalized 여부 확인"
   ]
  },
  {
   "cell_type": "code",
   "execution_count": 3,
   "id": "1c579a00",
   "metadata": {},
   "outputs": [],
   "source": [
    "from numpy import linalg as LA\n",
    "\n",
    "test_sentence = 'This framework generates embeddings for each input sentence'"
   ]
  },
  {
   "cell_type": "code",
   "execution_count": 4,
   "id": "647d32ba",
   "metadata": {},
   "outputs": [
    {
     "name": "stderr",
     "output_type": "stream",
     "text": [
      "Some weights of the model checkpoint at bert-base-uncased were not used when initializing BertModel: ['cls.predictions.transform.LayerNorm.bias', 'cls.predictions.transform.dense.bias', 'cls.predictions.bias', 'cls.seq_relationship.weight', 'cls.predictions.transform.dense.weight', 'cls.seq_relationship.bias', 'cls.predictions.transform.LayerNorm.weight', 'cls.predictions.decoder.weight']\n",
      "- This IS expected if you are initializing BertModel from the checkpoint of a model trained on another task or with another architecture (e.g. initializing a BertForSequenceClassification model from a BertForPreTraining model).\n",
      "- This IS NOT expected if you are initializing BertModel from the checkpoint of a model that you expect to be exactly identical (initializing a BertForSequenceClassification model from a BertForSequenceClassification model).\n",
      "12/05/2022 19:52:57 - INFO - sentence_transformers.SentenceTransformer -   Load pretrained SentenceTransformer: nli-roberta-base\n",
      "12/05/2022 19:53:02 - INFO - sentence_transformers.SentenceTransformer -   Use pytorch device: cuda\n",
      "12/05/2022 19:53:05 - INFO - simcse.tool -   Use `cls_before_pooler` for unsupervised models. If you want to use other pooling policy, specify `pooler` argument.\n"
     ]
    }
   ],
   "source": [
    "# 가상환경 s-bert\n",
    "from transformers import BertModel, BertTokenizer\n",
    "from sentence_transformers import SentenceTransformer\n",
    "from simcse import SimCSE\n",
    "\n",
    "tokenizer_bert = BertTokenizer.from_pretrained('bert-base-uncased')\n",
    "model_bert = BertModel.from_pretrained('bert-base-uncased')\n",
    "model_sbert = SentenceTransformer('nli-roberta-base')\n",
    "model_simcse = SimCSE('princeton-nlp/unsup-simcse-bert-base-uncased')"
   ]
  },
  {
   "cell_type": "code",
   "execution_count": 5,
   "id": "e04f8e68",
   "metadata": {},
   "outputs": [
    {
     "name": "stderr",
     "output_type": "stream",
     "text": [
      "Some weights of the model checkpoint at bert-base-uncased were not used when initializing BertModel: ['cls.predictions.transform.LayerNorm.bias', 'cls.predictions.transform.dense.bias', 'cls.predictions.bias', 'cls.seq_relationship.weight', 'cls.predictions.transform.dense.weight', 'cls.seq_relationship.bias', 'cls.predictions.transform.LayerNorm.weight', 'cls.predictions.decoder.weight']\n",
      "- This IS expected if you are initializing BertModel from the checkpoint of a model trained on another task or with another architecture (e.g. initializing a BertForSequenceClassification model from a BertForPreTraining model).\n",
      "- This IS NOT expected if you are initializing BertModel from the checkpoint of a model that you expect to be exactly identical (initializing a BertForSequenceClassification model from a BertForSequenceClassification model).\n",
      "12/05/2022 19:53:08 - INFO - sentence_transformers.SentenceTransformer -   Load pretrained SentenceTransformer: nli-roberta-base\n",
      "12/05/2022 19:53:09 - INFO - sentence_transformers.SentenceTransformer -   Use pytorch device: cuda\n",
      "12/05/2022 19:53:12 - INFO - simcse.tool -   Use `cls_before_pooler` for unsupervised models. If you want to use other pooling policy, specify `pooler` argument.\n"
     ]
    },
    {
     "name": "stdout",
     "output_type": "stream",
     "text": [
      "BERT: 0.9999997\n"
     ]
    },
    {
     "data": {
      "application/vnd.jupyter.widget-view+json": {
       "model_id": "5b7da970f1be46459e5b8597b075eec8",
       "version_major": 2,
       "version_minor": 0
      },
      "text/plain": [
       "Batches:   0%|          | 0/1 [00:00<?, ?it/s]"
      ]
     },
     "metadata": {},
     "output_type": "display_data"
    },
    {
     "name": "stdout",
     "output_type": "stream",
     "text": [
      "SBERT: 21.112795\n"
     ]
    },
    {
     "name": "stderr",
     "output_type": "stream",
     "text": [
      "100%|██████████| 1/1 [00:00<00:00, 77.82it/s]"
     ]
    },
    {
     "name": "stdout",
     "output_type": "stream",
     "text": [
      "SimCSE: 1.0\n"
     ]
    },
    {
     "name": "stderr",
     "output_type": "stream",
     "text": [
      "\n"
     ]
    }
   ],
   "source": [
    "# 가상환경 s-bert\n",
    "from transformers import BertModel, BertTokenizer\n",
    "from sentence_transformers import SentenceTransformer\n",
    "from simcse import SimCSE\n",
    "\n",
    "tokenizer_bert = BertTokenizer.from_pretrained('bert-base-uncased')\n",
    "model_bert = BertModel.from_pretrained('bert-base-uncased')\n",
    "model_sbert = SentenceTransformer('nli-roberta-base')\n",
    "model_simcse = SimCSE('princeton-nlp/unsup-simcse-bert-base-uncased')\n",
    "\n",
    "print('BERT:', LA.norm(get_embedding(test_sentence, tokenizer_bert, model_bert), 2)) # normalize하는 코드 추가함\n",
    "print('SBERT:', LA.norm(model_sbert.encode(test_sentence), 2))\n",
    "print('SimCSE:', LA.norm(model_simcse.encode(test_sentence), 2))"
   ]
  },
  {
   "cell_type": "code",
   "execution_count": 4,
   "id": "d8d439b1",
   "metadata": {},
   "outputs": [
    {
     "name": "stderr",
     "output_type": "stream",
     "text": [
      "Some weights of BertModel were not initialized from the model checkpoint at voidism/diffcse-bert-base-uncased-sts and are newly initialized: ['bert.pooler.dense.weight', 'bert.pooler.dense.bias']\n",
      "You should probably TRAIN this model on a down-stream task to be able to use it for predictions and inference.\n",
      "12/05/2022 20:03:48 - INFO - DiffCSE.diffcse.tool -   Use `cls_before_pooler` for DiffCSE models. If you want to use other pooling policy, specify `pooler` argument.\n",
      "100%|██████████| 1/1 [00:00<00:00, 30.19it/s]"
     ]
    },
    {
     "name": "stdout",
     "output_type": "stream",
     "text": [
      "DiffCSE: 1.0000001\n"
     ]
    },
    {
     "name": "stderr",
     "output_type": "stream",
     "text": [
      "\n"
     ]
    }
   ],
   "source": [
    "# 가상환경 diffcse\n",
    "from DiffCSE.diffcse import DiffCSE\n",
    "\n",
    "model_diffcse = DiffCSE('voidism/diffcse-bert-base-uncased-sts')\n",
    "\n",
    "print('DiffCSE:', LA.norm(model_diffcse.encode(test_sentence), 2))"
   ]
  },
  {
   "cell_type": "code",
   "execution_count": null,
   "id": "f17cad4c",
   "metadata": {},
   "outputs": [],
   "source": [
    "# 가상환경 promcse\n",
    "\n",
    "# promcse_encoder.py로 확인한 결과:\n",
    "# PromCSE: 1.0"
   ]
  },
  {
   "cell_type": "markdown",
   "id": "1d878eb5",
   "metadata": {},
   "source": [
    "## BERT"
   ]
  },
  {
   "cell_type": "code",
   "execution_count": 3,
   "id": "347c8ea8",
   "metadata": {},
   "outputs": [],
   "source": [
    "from transformers import BertModel, BertTokenizer"
   ]
  },
  {
   "cell_type": "code",
   "execution_count": 4,
   "id": "6c55c11e",
   "metadata": {},
   "outputs": [
    {
     "name": "stderr",
     "output_type": "stream",
     "text": [
      "Some weights of the model checkpoint at bert-base-uncased were not used when initializing BertModel: ['cls.seq_relationship.weight', 'cls.predictions.transform.dense.bias', 'cls.predictions.decoder.weight', 'cls.predictions.transform.LayerNorm.bias', 'cls.predictions.transform.dense.weight', 'cls.predictions.transform.LayerNorm.weight', 'cls.seq_relationship.bias', 'cls.predictions.bias']\n",
      "- This IS expected if you are initializing BertModel from the checkpoint of a model trained on another task or with another architecture (e.g. initializing a BertForSequenceClassification model from a BertForPreTraining model).\n",
      "- This IS NOT expected if you are initializing BertModel from the checkpoint of a model that you expect to be exactly identical (initializing a BertForSequenceClassification model from a BertForSequenceClassification model).\n"
     ]
    }
   ],
   "source": [
    "# BERT\n",
    "tokenizer = BertTokenizer.from_pretrained('bert-base-uncased')\n",
    "model = BertModel.from_pretrained('bert-base-uncased')\n",
    "\n",
    "# tokenizer_add = BertTokenizer.from_pretrained('bert-base-uncased')\n",
    "# model_add = BertModel.from_pretrained('bert-base-uncased')\n",
    "\n",
    "# Add vocabulary\n",
    "# new_tokens = ['covid']\n",
    "# num_added_toks = tokenizer_add.add_tokens(new_tokens)\n",
    "# model_add.resize_token_embeddings(len(tokenizer_add))"
   ]
  },
  {
   "cell_type": "markdown",
   "id": "cdc96036",
   "metadata": {},
   "source": [
    "### Alignment"
   ]
  },
  {
   "cell_type": "code",
   "execution_count": 5,
   "id": "dfeece64",
   "metadata": {},
   "outputs": [
    {
     "name": "stdout",
     "output_type": "stream",
     "text": [
      "Alignment: 0.62217146\n",
      "CPU times: user 1h 37min 41s, sys: 3min 26s, total: 1h 41min 7s\n",
      "Wall time: 4min 28s\n"
     ]
    }
   ],
   "source": [
    "%%time\n",
    "# Vocab 추가\n",
    "# q1_emb_add, q2_emb_add = get_all_embeddings_align(align_csv, tokenizer_add, model_add)\n",
    "# print('Alignment (Vocab added):', align_loss(q1_emb_add, q2_emb_add).numpy())\n",
    "\n",
    "# Vocab 추가 x\n",
    "q1_emb, q2_emb = get_all_embeddings_align(align_csv, tokenizer, model)\n",
    "print('Alignment:', align_loss(q1_emb, q2_emb).numpy())"
   ]
  },
  {
   "cell_type": "markdown",
   "id": "72c4da83",
   "metadata": {},
   "source": [
    "### Uniformity"
   ]
  },
  {
   "cell_type": "code",
   "execution_count": 6,
   "id": "60671258",
   "metadata": {},
   "outputs": [
    {
     "name": "stdout",
     "output_type": "stream",
     "text": [
      "Uniformity: -1.3973087\n",
      "CPU times: user 5min 4s, sys: 11.1 s, total: 5min 15s\n",
      "Wall time: 14 s\n"
     ]
    }
   ],
   "source": [
    "%%time\n",
    "# class_train4_uniform.csv 또는 category_train20_unifrom.csv 사용\n",
    "\n",
    "# Vocab 추가\n",
    "# q_emb_add = get_all_embeddings_uniform(uniform_csv, tokenizer_add, model_add)\n",
    "# print('Uniformity (Vocab added):', uniform_loss(q_emb_add).numpy())\n",
    "\n",
    "# Vocab 추가 x\n",
    "q_emb = get_all_embeddings_uniform(uniform_csv, tokenizer, model)\n",
    "print('Uniformity:', uniform_loss(q_emb).numpy())"
   ]
  },
  {
   "cell_type": "code",
   "execution_count": 7,
   "id": "52fb1c58",
   "metadata": {},
   "outputs": [
    {
     "name": "stdout",
     "output_type": "stream",
     "text": [
      "Uniformity (All): -1.386892\n",
      "CPU times: user 28min 2s, sys: 57.2 s, total: 29min\n",
      "Wall time: 1min 16s\n"
     ]
    }
   ],
   "source": [
    "%%time\n",
    "# final_master_dataset.csv 사용\n",
    "\n",
    "# Vocab 추가\n",
    "# q_emb_add = get_all_embeddings_uniform_all(uniform_all_csv, tokenizer_add, model_add)\n",
    "# print('Uniformity (All) (Vocab added):', uniform_loss(q_emb_add).numpy())\n",
    "\n",
    "# Vocab 추가 x\n",
    "q_emb = get_all_embeddings_uniform_all(uniform_all_csv, tokenizer, model)\n",
    "print('Uniformity (All):', uniform_loss(q_emb).numpy())"
   ]
  },
  {
   "cell_type": "markdown",
   "id": "af9b090e",
   "metadata": {},
   "source": [
    "## SBERT"
   ]
  },
  {
   "cell_type": "code",
   "execution_count": 8,
   "id": "600e2b90",
   "metadata": {},
   "outputs": [],
   "source": [
    "from sentence_transformers import SentenceTransformer"
   ]
  },
  {
   "cell_type": "code",
   "execution_count": 9,
   "id": "366369f4",
   "metadata": {
    "scrolled": true
   },
   "outputs": [
    {
     "name": "stdout",
     "output_type": "stream",
     "text": [
      "[nli-bert-base] Alignment: 0.30968338\n",
      "[nli-bert-base] Uniformity: -5.276228\n",
      "[nli-bert-base] Uniformity (All): -1.2439708\n",
      "[nli-roberta-base] Alignment: 0.31745446\n",
      "[nli-roberta-base] Uniformity: -5.3897166\n",
      "[nli-roberta-base] Uniformity (All): -1.2442255\n",
      "[stsb-bert-base] Alignment: 0.34205765\n",
      "[stsb-bert-base] Uniformity: -5.8859425\n",
      "[stsb-bert-base] Uniformity (All): -1.3850875\n",
      "[stsb-roberta-base] Alignment: 0.34339923\n",
      "[stsb-roberta-base] Uniformity: -5.7142596\n",
      "[stsb-roberta-base] Uniformity (All): -1.3764973\n",
      "[bert-base-nli-stsb-mean-tokens] Alignment: 0.34205765\n",
      "[bert-base-nli-stsb-mean-tokens] Uniformity: -5.8859425\n",
      "[bert-base-nli-stsb-mean-tokens] Uniformity (All): -1.3850875\n",
      "[roberta-base-nli-stsb-mean-tokens] Alignment: 0.34339923\n",
      "[roberta-base-nli-stsb-mean-tokens] Uniformity: -5.7142596\n",
      "[roberta-base-nli-stsb-mean-tokens] Uniformity (All): -1.3764973\n",
      "CPU times: user 2min 40s, sys: 20.7 s, total: 3min\n",
      "Wall time: 44.6 s\n"
     ]
    }
   ],
   "source": [
    "%%time\n",
    "\n",
    "model_list = [   \n",
    "    'nli-bert-base',\n",
    "    'nli-roberta-base',\n",
    "    'stsb-bert-base',\n",
    "    'stsb-roberta-base',\n",
    "    'bert-base-nli-stsb-mean-tokens',\n",
    "    'roberta-base-nli-stsb-mean-tokens'\n",
    "    ]\n",
    "\n",
    "test_sentence = 'This framework generates embeddings for each input sentence'\n",
    "\n",
    "for model_name in model_list:\n",
    "    \n",
    "    model = SentenceTransformer(model_name)\n",
    "    \n",
    "    # Embedding dimension 체크\n",
    "    if model.encode(test_sentence).shape[0] != 768:\n",
    "        print(f'Embedding dimension for {model_name} is not 768')\n",
    "        break\n",
    "        \n",
    "    # Alignment\n",
    "    q1_emb, q2_emb = get_sentence_embedding_align(align_csv, model, unit=True)\n",
    "    print(f'[{model_name}] Alignment:', align_loss(q1_emb, q2_emb).numpy())\n",
    "    \n",
    "    # Uniformity\n",
    "    q_emb = get_sentence_embedding_uniform(uniform_csv, model, unit=True) # class_train4_uniform.csv 또는 category_train20_unifrom.csv 사용\n",
    "    print(f'[{model_name}] Uniformity:', uniform_loss(q_emb).numpy())\n",
    "\n",
    "    q_emb = get_sentence_embedding_uniform_all(uniform_all_csv, model, unit=True) # final_master_dataset.csv 사용\n",
    "    print(f'[{model_name}] Uniformity (All):', uniform_loss(q_emb).numpy())"
   ]
  },
  {
   "cell_type": "markdown",
   "id": "956a1ca2",
   "metadata": {},
   "source": [
    "## SimCSE"
   ]
  },
  {
   "cell_type": "code",
   "execution_count": 10,
   "id": "22511dc3",
   "metadata": {},
   "outputs": [],
   "source": [
    "from simcse import SimCSE"
   ]
  },
  {
   "cell_type": "code",
   "execution_count": 11,
   "id": "0dd682f6",
   "metadata": {},
   "outputs": [
    {
     "name": "stderr",
     "output_type": "stream",
     "text": [
      "12/08/2022 14:34:19 - INFO - simcse.tool -   Use `cls_before_pooler` for unsupervised models. If you want to use other pooling policy, specify `pooler` argument.\n",
      "100%|██████████| 1/1 [00:00<00:00, 32.21it/s]\n",
      "100%|██████████| 45/45 [00:01<00:00, 35.29it/s]\n",
      "100%|██████████| 45/45 [00:01<00:00, 30.54it/s]\n"
     ]
    },
    {
     "name": "stdout",
     "output_type": "stream",
     "text": [
      "[princeton-nlp/unsup-simcse-bert-base-uncased] Alignment: 0.9258017\n"
     ]
    },
    {
     "name": "stderr",
     "output_type": "stream",
     "text": [
      "100%|██████████| 5/5 [00:00<00:00, 27.94it/s]\n"
     ]
    },
    {
     "name": "stdout",
     "output_type": "stream",
     "text": [
      "[princeton-nlp/unsup-simcse-bert-base-uncased] Uniformity: -2.1132762\n"
     ]
    },
    {
     "name": "stderr",
     "output_type": "stream",
     "text": [
      "100%|██████████| 26/26 [00:00<00:00, 26.10it/s]\n"
     ]
    },
    {
     "name": "stdout",
     "output_type": "stream",
     "text": [
      "[princeton-nlp/unsup-simcse-bert-base-uncased] Uniformity (All): -2.1886444\n"
     ]
    },
    {
     "name": "stderr",
     "output_type": "stream",
     "text": [
      "12/08/2022 14:34:27 - INFO - simcse.tool -   Use `cls_before_pooler` for unsupervised models. If you want to use other pooling policy, specify `pooler` argument.\n",
      "100%|██████████| 1/1 [00:00<00:00, 61.22it/s]\n",
      "100%|██████████| 45/45 [00:01<00:00, 35.07it/s]\n",
      "100%|██████████| 45/45 [00:01<00:00, 31.55it/s]\n"
     ]
    },
    {
     "name": "stdout",
     "output_type": "stream",
     "text": [
      "[princeton-nlp/unsup-simcse-roberta-base] Alignment: 0.73931205\n"
     ]
    },
    {
     "name": "stderr",
     "output_type": "stream",
     "text": [
      "100%|██████████| 5/5 [00:00<00:00, 28.51it/s]\n"
     ]
    },
    {
     "name": "stdout",
     "output_type": "stream",
     "text": [
      "[princeton-nlp/unsup-simcse-roberta-base] Uniformity: -1.5927554\n"
     ]
    },
    {
     "name": "stderr",
     "output_type": "stream",
     "text": [
      "100%|██████████| 26/26 [00:00<00:00, 26.32it/s]\n"
     ]
    },
    {
     "name": "stdout",
     "output_type": "stream",
     "text": [
      "[princeton-nlp/unsup-simcse-roberta-base] Uniformity (All): -1.760116\n"
     ]
    },
    {
     "name": "stderr",
     "output_type": "stream",
     "text": [
      "100%|██████████| 1/1 [00:00<00:00, 61.60it/s]\n",
      "100%|██████████| 45/45 [00:01<00:00, 34.26it/s]\n",
      "100%|██████████| 45/45 [00:01<00:00, 30.53it/s]\n"
     ]
    },
    {
     "name": "stdout",
     "output_type": "stream",
     "text": [
      "[princeton-nlp/sup-simcse-bert-base-uncased] Alignment: 1.0889155\n"
     ]
    },
    {
     "name": "stderr",
     "output_type": "stream",
     "text": [
      "100%|██████████| 5/5 [00:00<00:00, 26.73it/s]"
     ]
    },
    {
     "name": "stdout",
     "output_type": "stream",
     "text": [
      "[princeton-nlp/sup-simcse-bert-base-uncased] Uniformity: -2.4719596\n"
     ]
    },
    {
     "name": "stderr",
     "output_type": "stream",
     "text": [
      "\n",
      "100%|██████████| 26/26 [00:00<00:00, 26.21it/s]\n"
     ]
    },
    {
     "name": "stdout",
     "output_type": "stream",
     "text": [
      "[princeton-nlp/sup-simcse-bert-base-uncased] Uniformity (All): -2.553935\n"
     ]
    },
    {
     "name": "stderr",
     "output_type": "stream",
     "text": [
      "100%|██████████| 1/1 [00:00<00:00, 63.05it/s]\n",
      "100%|██████████| 45/45 [00:01<00:00, 34.95it/s]\n",
      "100%|██████████| 45/45 [00:01<00:00, 31.55it/s]\n"
     ]
    },
    {
     "name": "stdout",
     "output_type": "stream",
     "text": [
      "[princeton-nlp/sup-simcse-roberta-base] Alignment: 1.1842636\n"
     ]
    },
    {
     "name": "stderr",
     "output_type": "stream",
     "text": [
      "100%|██████████| 5/5 [00:00<00:00, 27.96it/s]\n"
     ]
    },
    {
     "name": "stdout",
     "output_type": "stream",
     "text": [
      "[princeton-nlp/sup-simcse-roberta-base] Uniformity: -2.694325\n"
     ]
    },
    {
     "name": "stderr",
     "output_type": "stream",
     "text": [
      "100%|██████████| 26/26 [00:00<00:00, 27.22it/s]\n"
     ]
    },
    {
     "name": "stdout",
     "output_type": "stream",
     "text": [
      "[princeton-nlp/sup-simcse-roberta-base] Uniformity (All): -2.7603693\n",
      "CPU times: user 1min 10s, sys: 9.25 s, total: 1min 19s\n",
      "Wall time: 28.7 s\n"
     ]
    }
   ],
   "source": [
    "%%time\n",
    "\n",
    "model_list = [   \n",
    "    'princeton-nlp/unsup-simcse-bert-base-uncased',\n",
    "    'princeton-nlp/unsup-simcse-roberta-base',\n",
    "    'princeton-nlp/sup-simcse-bert-base-uncased',\n",
    "    'princeton-nlp/sup-simcse-roberta-base'\n",
    "    ]\n",
    "\n",
    "test_sentence = 'This framework generates embeddings for each input sentence'\n",
    "\n",
    "for model_name in model_list:\n",
    "    \n",
    "    model = SimCSE(model_name)\n",
    "    \n",
    "    # Embedding dimension 체크\n",
    "    if model.encode(test_sentence).shape[0] != 768:\n",
    "        print(f'Embedding dimension for {model_name} is not 768')\n",
    "        break\n",
    "        \n",
    "    # Alignment\n",
    "    q1_emb, q2_emb = get_sentence_embedding_align(align_csv, model)\n",
    "    print(f'[{model_name}] Alignment:', align_loss(q1_emb, q2_emb).numpy())\n",
    "    \n",
    "    # Uniformity\n",
    "    q_emb = get_sentence_embedding_uniform(uniform_csv, model) # class_train4_uniform.csv 또는 category_train20_unifrom.csv 사용\n",
    "    print(f'[{model_name}] Uniformity:', uniform_loss(q_emb).numpy())\n",
    "\n",
    "    q_emb = get_sentence_embedding_uniform_all(uniform_all_csv, model) # final_master_dataset.csv 사용\n",
    "    print(f'[{model_name}] Uniformity (All):', uniform_loss(q_emb).numpy())"
   ]
  },
  {
   "cell_type": "markdown",
   "id": "df5831ac",
   "metadata": {},
   "source": [
    "## DiffCSE"
   ]
  },
  {
   "cell_type": "code",
   "execution_count": 3,
   "id": "07924e51",
   "metadata": {},
   "outputs": [],
   "source": [
    "from DiffCSE.diffcse import DiffCSE"
   ]
  },
  {
   "cell_type": "code",
   "execution_count": 4,
   "id": "e2691ba5",
   "metadata": {},
   "outputs": [
    {
     "name": "stderr",
     "output_type": "stream",
     "text": [
      "Some weights of BertModel were not initialized from the model checkpoint at voidism/diffcse-bert-base-uncased-sts and are newly initialized: ['bert.pooler.dense.weight', 'bert.pooler.dense.bias']\n",
      "You should probably TRAIN this model on a down-stream task to be able to use it for predictions and inference.\n",
      "12/08/2022 14:42:44 - INFO - DiffCSE.diffcse.tool -   Use `cls_before_pooler` for DiffCSE models. If you want to use other pooling policy, specify `pooler` argument.\n",
      "100%|██████████| 1/1 [00:00<00:00, 29.87it/s]\n",
      "100%|██████████| 45/45 [00:01<00:00, 34.73it/s]\n",
      "100%|██████████| 45/45 [00:01<00:00, 31.66it/s]\n",
      "100%|██████████| 5/5 [00:00<00:00, 28.41it/s]"
     ]
    },
    {
     "name": "stdout",
     "output_type": "stream",
     "text": [
      "[voidism/diffcse-bert-base-uncased-sts] Alignment: 0.39914834\n",
      "[voidism/diffcse-bert-base-uncased-sts] Uniformity: -0.9187444\n"
     ]
    },
    {
     "name": "stderr",
     "output_type": "stream",
     "text": [
      "\n",
      "100%|██████████| 26/26 [00:00<00:00, 26.74it/s]\n"
     ]
    },
    {
     "name": "stdout",
     "output_type": "stream",
     "text": [
      "[voidism/diffcse-bert-base-uncased-sts] Uniformity (All): -0.97734153\n"
     ]
    },
    {
     "name": "stderr",
     "output_type": "stream",
     "text": [
      "Some weights of BertModel were not initialized from the model checkpoint at voidism/diffcse-bert-base-uncased-trans and are newly initialized: ['bert.pooler.dense.weight', 'bert.pooler.dense.bias']\n",
      "You should probably TRAIN this model on a down-stream task to be able to use it for predictions and inference.\n",
      "12/08/2022 14:43:02 - INFO - DiffCSE.diffcse.tool -   Use `cls_before_pooler` for DiffCSE models. If you want to use other pooling policy, specify `pooler` argument.\n",
      "100%|██████████| 1/1 [00:00<00:00, 60.27it/s]\n",
      "100%|██████████| 45/45 [00:01<00:00, 34.55it/s]\n",
      "100%|██████████| 45/45 [00:01<00:00, 31.29it/s]\n",
      "100%|██████████| 5/5 [00:00<00:00, 28.49it/s]\n"
     ]
    },
    {
     "name": "stdout",
     "output_type": "stream",
     "text": [
      "[voidism/diffcse-bert-base-uncased-trans] Alignment: 0.37891388\n",
      "[voidism/diffcse-bert-base-uncased-trans] Uniformity: -0.8716181\n"
     ]
    },
    {
     "name": "stderr",
     "output_type": "stream",
     "text": [
      "100%|██████████| 26/26 [00:00<00:00, 26.68it/s]\n"
     ]
    },
    {
     "name": "stdout",
     "output_type": "stream",
     "text": [
      "[voidism/diffcse-bert-base-uncased-trans] Uniformity (All): -0.8996946\n"
     ]
    },
    {
     "name": "stderr",
     "output_type": "stream",
     "text": [
      "Some weights of RobertaModel were not initialized from the model checkpoint at voidism/diffcse-roberta-base-sts and are newly initialized: ['roberta.pooler.dense.weight', 'roberta.pooler.dense.bias']\n",
      "You should probably TRAIN this model on a down-stream task to be able to use it for predictions and inference.\n",
      "12/08/2022 14:43:17 - INFO - DiffCSE.diffcse.tool -   Use `cls_before_pooler` for DiffCSE models. If you want to use other pooling policy, specify `pooler` argument.\n",
      "100%|██████████| 1/1 [00:00<00:00, 29.64it/s]\n",
      "100%|██████████| 45/45 [00:01<00:00, 34.43it/s]\n",
      "100%|██████████| 45/45 [00:01<00:00, 31.49it/s]\n",
      "100%|██████████| 5/5 [00:00<00:00, 27.19it/s]"
     ]
    },
    {
     "name": "stdout",
     "output_type": "stream",
     "text": [
      "[voidism/diffcse-roberta-base-sts] Alignment: 0.2962926\n",
      "[voidism/diffcse-roberta-base-sts] Uniformity: -0.67815644\n"
     ]
    },
    {
     "name": "stderr",
     "output_type": "stream",
     "text": [
      "\n",
      "100%|██████████| 26/26 [00:00<00:00, 26.76it/s]\n"
     ]
    },
    {
     "name": "stdout",
     "output_type": "stream",
     "text": [
      "[voidism/diffcse-roberta-base-sts] Uniformity (All): -0.7303018\n"
     ]
    },
    {
     "name": "stderr",
     "output_type": "stream",
     "text": [
      "Some weights of RobertaModel were not initialized from the model checkpoint at voidism/diffcse-roberta-base-trans and are newly initialized: ['roberta.pooler.dense.weight', 'roberta.pooler.dense.bias']\n",
      "You should probably TRAIN this model on a down-stream task to be able to use it for predictions and inference.\n",
      "12/08/2022 14:43:31 - INFO - DiffCSE.diffcse.tool -   Use `cls_before_pooler` for DiffCSE models. If you want to use other pooling policy, specify `pooler` argument.\n",
      "100%|██████████| 1/1 [00:00<00:00, 51.15it/s]\n",
      "100%|██████████| 45/45 [00:01<00:00, 34.19it/s]\n",
      "100%|██████████| 45/45 [00:01<00:00, 31.98it/s]\n",
      "100%|██████████| 5/5 [00:00<00:00, 28.46it/s]\n",
      "  0%|          | 0/26 [00:00<?, ?it/s]"
     ]
    },
    {
     "name": "stdout",
     "output_type": "stream",
     "text": [
      "[voidism/diffcse-roberta-base-trans] Alignment: 0.2620578\n",
      "[voidism/diffcse-roberta-base-trans] Uniformity: -0.60094875\n"
     ]
    },
    {
     "name": "stderr",
     "output_type": "stream",
     "text": [
      "100%|██████████| 26/26 [00:00<00:00, 26.77it/s]\n"
     ]
    },
    {
     "name": "stdout",
     "output_type": "stream",
     "text": [
      "[voidism/diffcse-roberta-base-trans] Uniformity (All): -0.6481909\n",
      "CPU times: user 1min 19s, sys: 20.4 s, total: 1min 39s\n",
      "Wall time: 1min 1s\n"
     ]
    }
   ],
   "source": [
    "%%time\n",
    "\n",
    "model_list = [   \n",
    "    'voidism/diffcse-bert-base-uncased-sts',\n",
    "    'voidism/diffcse-bert-base-uncased-trans',\n",
    "    'voidism/diffcse-roberta-base-sts',\n",
    "    'voidism/diffcse-roberta-base-trans'\n",
    "    ]\n",
    "\n",
    "test_sentence = 'This framework generates embeddings for each input sentence'\n",
    "\n",
    "for model_name in model_list:\n",
    "    \n",
    "    model = DiffCSE(model_name)\n",
    "    \n",
    "    # Embedding dimension 체크\n",
    "    if model.encode(test_sentence).shape[0] != 768:\n",
    "        print(f'Embedding dimension for {model_name} is not 768')\n",
    "        break\n",
    "        \n",
    "    # Alignment\n",
    "    q1_emb, q2_emb = get_sentence_embedding_align(align_csv, model)\n",
    "    print(f'[{model_name}] Alignment:', align_loss(q1_emb, q2_emb).numpy())\n",
    "    \n",
    "    # Uniformity\n",
    "    q_emb = get_sentence_embedding_uniform(uniform_csv, model) # class_train4_uniform.csv 또는 category_train20_unifrom.csv 사용\n",
    "    print(f'[{model_name}] Uniformity:', uniform_loss(q_emb).numpy())\n",
    "\n",
    "    q_emb = get_sentence_embedding_uniform_all(uniform_all_csv, model) # final_master_dataset.csv 사용\n",
    "    print(f'[{model_name}] Uniformity (All):', uniform_loss(q_emb).numpy())"
   ]
  },
  {
   "cell_type": "markdown",
   "id": "225508bb",
   "metadata": {},
   "source": [
    "## PromCSE\n",
    "- PromCSE는 코드 구조가 달라서 (args 사용함) 바로 python script로 실행\n",
    "```\n",
    "cd PromCSE\n",
    "python promcse_encoder.py\n",
    "```\n",
    "\n",
    "- 결과\n",
    " - Alignment (Class): 0.90093094\n",
    " - Alignment (Category): 1.2219398\n",
    " - Uniformity (Class): -2.7525558\n",
    " - Uniformity (Category): -2.6877098\n",
    " - Uniformity (All): -2.8021905"
   ]
  }
 ],
 "metadata": {
  "kernelspec": {
   "display_name": "Python [conda env:diffcse]",
   "language": "python",
   "name": "conda-env-diffcse-py"
  },
  "language_info": {
   "codemirror_mode": {
    "name": "ipython",
    "version": 3
   },
   "file_extension": ".py",
   "mimetype": "text/x-python",
   "name": "python",
   "nbconvert_exporter": "python",
   "pygments_lexer": "ipython3",
   "version": "3.9.5"
  }
 },
 "nbformat": 4,
 "nbformat_minor": 5
}
