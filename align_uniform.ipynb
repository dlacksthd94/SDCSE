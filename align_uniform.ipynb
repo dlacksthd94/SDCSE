{
 "cells": [
  {
   "cell_type": "markdown",
   "id": "b3ae8286",
   "metadata": {},
   "source": [
    "## 가상환경\n",
    "- BERT, SBERT, SimCSE: s-bert\n",
    "- DiffCSE: diffcse\n",
    "- PromCSE: promcse"
   ]
  },
  {
   "cell_type": "code",
   "execution_count": 1,
   "id": "481f8d6a",
   "metadata": {},
   "outputs": [],
   "source": [
    "import torch\n",
    "import numpy as np\n",
    "import csv\n",
    "from tqdm.notebook import tqdm\n",
    "\n",
    "from covid_q.code.get_align_uniform import *"
   ]
  },
  {
   "cell_type": "code",
   "execution_count": 2,
   "id": "3bb06c83",
   "metadata": {},
   "outputs": [],
   "source": [
    "align_csv = 'covid_q/data/positive_pairs.csv'\n",
    "uniform_csv = 'covid_q/data/train4_uniform.csv'\n",
    "uniform_all_csv = 'covid_q/data/final_master_dataset.csv'"
   ]
  },
  {
   "cell_type": "markdown",
   "id": "1d878eb5",
   "metadata": {},
   "source": [
    "## BERT"
   ]
  },
  {
   "cell_type": "code",
   "execution_count": null,
   "id": "347c8ea8",
   "metadata": {},
   "outputs": [],
   "source": [
    "from transformers import BertModel, BertTokenizer"
   ]
  },
  {
   "cell_type": "code",
   "execution_count": 3,
   "id": "6c55c11e",
   "metadata": {},
   "outputs": [
    {
     "name": "stderr",
     "output_type": "stream",
     "text": [
      "Some weights of the model checkpoint at bert-base-uncased were not used when initializing BertModel: ['cls.seq_relationship.weight', 'cls.predictions.bias', 'cls.predictions.transform.dense.weight', 'cls.predictions.transform.LayerNorm.weight', 'cls.predictions.transform.dense.bias', 'cls.predictions.transform.LayerNorm.bias', 'cls.predictions.decoder.weight', 'cls.seq_relationship.bias']\n",
      "- This IS expected if you are initializing BertModel from the checkpoint of a model trained on another task or with another architecture (e.g. initializing a BertForSequenceClassification model from a BertForPreTraining model).\n",
      "- This IS NOT expected if you are initializing BertModel from the checkpoint of a model that you expect to be exactly identical (initializing a BertForSequenceClassification model from a BertForSequenceClassification model).\n",
      "Some weights of the model checkpoint at bert-base-uncased were not used when initializing BertModel: ['cls.seq_relationship.weight', 'cls.predictions.bias', 'cls.predictions.transform.dense.weight', 'cls.predictions.transform.LayerNorm.weight', 'cls.predictions.transform.dense.bias', 'cls.predictions.transform.LayerNorm.bias', 'cls.predictions.decoder.weight', 'cls.seq_relationship.bias']\n",
      "- This IS expected if you are initializing BertModel from the checkpoint of a model trained on another task or with another architecture (e.g. initializing a BertForSequenceClassification model from a BertForPreTraining model).\n",
      "- This IS NOT expected if you are initializing BertModel from the checkpoint of a model that you expect to be exactly identical (initializing a BertForSequenceClassification model from a BertForSequenceClassification model).\n"
     ]
    },
    {
     "data": {
      "text/plain": [
       "Embedding(30523, 768)"
      ]
     },
     "execution_count": 3,
     "metadata": {},
     "output_type": "execute_result"
    }
   ],
   "source": [
    "# BERT\n",
    "tokenizer = BertTokenizer.from_pretrained('bert-base-uncased')\n",
    "model = BertModel.from_pretrained('bert-base-uncased')\n",
    "\n",
    "tokenizer_add = BertTokenizer.from_pretrained('bert-base-uncased')\n",
    "model_add = BertModel.from_pretrained('bert-base-uncased')\n",
    "\n",
    "# Add vocabulary\n",
    "new_tokens = ['covid']\n",
    "num_added_toks = tokenizer_add.add_tokens(new_tokens)\n",
    "model_add.resize_token_embeddings(len(tokenizer_add))"
   ]
  },
  {
   "cell_type": "markdown",
   "id": "cdc96036",
   "metadata": {},
   "source": [
    "### Alignment"
   ]
  },
  {
   "cell_type": "code",
   "execution_count": 4,
   "id": "dfeece64",
   "metadata": {},
   "outputs": [
    {
     "name": "stdout",
     "output_type": "stream",
     "text": [
      "Alignment (Vocab added): 41.089592\n",
      "Alignment: 36.87594\n",
      "CPU times: user 38min 32s, sys: 1min 24s, total: 39min 57s\n",
      "Wall time: 1min 44s\n"
     ]
    }
   ],
   "source": [
    "%%time\n",
    "# Vocab 추가\n",
    "q1_emb_add, q2_emb_add = get_all_embeddings_align(align_csv, tokenizer_add, model_add)\n",
    "print('Alignment (Vocab added):', align_loss(q1_emb_add, q2_emb_add).numpy())\n",
    "\n",
    "# Vocab 추가 x\n",
    "q1_emb, q2_emb = get_all_embeddings_align(align_csv, tokenizer, model)\n",
    "print('Alignment:', align_loss(q1_emb, q2_emb).numpy())"
   ]
  },
  {
   "cell_type": "markdown",
   "id": "72c4da83",
   "metadata": {},
   "source": [
    "### Uniformity"
   ]
  },
  {
   "cell_type": "code",
   "execution_count": 5,
   "id": "60671258",
   "metadata": {},
   "outputs": [
    {
     "name": "stdout",
     "output_type": "stream",
     "text": [
      "Uniformity (Vocab added): -14.242066\n",
      "Uniformity: -14.06199\n",
      "CPU times: user 12min 47s, sys: 26.7 s, total: 13min 13s\n",
      "Wall time: 34.7 s\n"
     ]
    }
   ],
   "source": [
    "%%time\n",
    "# train4_uniform.csv 사용\n",
    "\n",
    "# Vocab 추가\n",
    "q_emb_add = get_all_embeddings_uniform(uniform_csv, tokenizer_add, model_add)\n",
    "print('Uniformity (Vocab added):', uniform_loss(q_emb_add).numpy())\n",
    "\n",
    "# Vocab 추가 x\n",
    "q_emb = get_all_embeddings_uniform(uniform_csv, tokenizer, model)\n",
    "print('Uniformity:', uniform_loss(q_emb).numpy())"
   ]
  },
  {
   "cell_type": "code",
   "execution_count": 6,
   "id": "52fb1c58",
   "metadata": {},
   "outputs": [
    {
     "name": "stdout",
     "output_type": "stream",
     "text": [
      "Uniformity (All) (Vocab added): -11.433103\n",
      "Uniformity (All): -11.431488\n",
      "CPU times: user 59min 13s, sys: 2min 4s, total: 1h 1min 17s\n",
      "Wall time: 2min 40s\n"
     ]
    }
   ],
   "source": [
    "%%time\n",
    "# final_master_dataset.csv 사용\n",
    "\n",
    "# Vocab 추가\n",
    "q_emb_add = get_all_embeddings_uniform_all(uniform_all_csv, tokenizer_add, model_add)\n",
    "print('Uniformity (All) (Vocab added):', uniform_loss(q_emb_add).numpy())\n",
    "\n",
    "# Vocab 추가 x\n",
    "q_emb = get_all_embeddings_uniform_all(uniform_all_csv, tokenizer, model)\n",
    "print('Uniformity (All):', uniform_loss(q_emb).numpy())"
   ]
  },
  {
   "cell_type": "markdown",
   "id": "af9b090e",
   "metadata": {},
   "source": [
    "## SBERT"
   ]
  },
  {
   "cell_type": "code",
   "execution_count": null,
   "id": "600e2b90",
   "metadata": {},
   "outputs": [],
   "source": [
    "from sentence_transformers import SentenceTransformer"
   ]
  },
  {
   "cell_type": "code",
   "execution_count": 7,
   "id": "366369f4",
   "metadata": {
    "scrolled": true
   },
   "outputs": [
    {
     "name": "stderr",
     "output_type": "stream",
     "text": [
      "12/04/2022 21:38:21 - INFO - sentence_transformers.SentenceTransformer -   Load pretrained SentenceTransformer: nli-bert-base\n",
      "12/04/2022 21:38:22 - INFO - sentence_transformers.SentenceTransformer -   Use pytorch device: cuda\n"
     ]
    },
    {
     "data": {
      "application/vnd.jupyter.widget-view+json": {
       "model_id": "df60657ce76c46128e515cf9f952b8bf",
       "version_major": 2,
       "version_minor": 0
      },
      "text/plain": [
       "Batches:   0%|          | 0/1 [00:00<?, ?it/s]"
      ]
     },
     "metadata": {},
     "output_type": "display_data"
    },
    {
     "data": {
      "application/vnd.jupyter.widget-view+json": {
       "model_id": "b85e0963cee7443a9f1cd4a3eedc92a7",
       "version_major": 2,
       "version_minor": 0
      },
      "text/plain": [
       "Batches:   0%|          | 0/17 [00:00<?, ?it/s]"
      ]
     },
     "metadata": {},
     "output_type": "display_data"
    },
    {
     "data": {
      "application/vnd.jupyter.widget-view+json": {
       "model_id": "3074da4666e34f399165fb7f08db801e",
       "version_major": 2,
       "version_minor": 0
      },
      "text/plain": [
       "Batches:   0%|          | 0/17 [00:00<?, ?it/s]"
      ]
     },
     "metadata": {},
     "output_type": "display_data"
    },
    {
     "name": "stdout",
     "output_type": "stream",
     "text": [
      "[nli-bert-base] Alignment: 152.76573\n"
     ]
    },
    {
     "data": {
      "application/vnd.jupyter.widget-view+json": {
       "model_id": "ca8d8028470a4119a353b3e7592b8b41",
       "version_major": 2,
       "version_minor": 0
      },
      "text/plain": [
       "Batches:   0%|          | 0/11 [00:00<?, ?it/s]"
      ]
     },
     "metadata": {},
     "output_type": "display_data"
    },
    {
     "name": "stdout",
     "output_type": "stream",
     "text": [
      "[nli-bert-base] Uniformity: -15.318449\n"
     ]
    },
    {
     "data": {
      "application/vnd.jupyter.widget-view+json": {
       "model_id": "72e6639f7e794c079347e20cd55e94c8",
       "version_major": 2,
       "version_minor": 0
      },
      "text/plain": [
       "Batches:   0%|          | 0/51 [00:00<?, ?it/s]"
      ]
     },
     "metadata": {},
     "output_type": "display_data"
    },
    {
     "name": "stderr",
     "output_type": "stream",
     "text": [
      "12/04/2022 21:38:27 - INFO - sentence_transformers.SentenceTransformer -   Load pretrained SentenceTransformer: nli-roberta-base\n"
     ]
    },
    {
     "name": "stdout",
     "output_type": "stream",
     "text": [
      "[nli-bert-base] Uniformity (All): -11.435321\n"
     ]
    },
    {
     "name": "stderr",
     "output_type": "stream",
     "text": [
      "12/04/2022 21:38:29 - INFO - sentence_transformers.SentenceTransformer -   Use pytorch device: cuda\n"
     ]
    },
    {
     "data": {
      "application/vnd.jupyter.widget-view+json": {
       "model_id": "0947647020e24b00afad4fd8955b4a53",
       "version_major": 2,
       "version_minor": 0
      },
      "text/plain": [
       "Batches:   0%|          | 0/1 [00:00<?, ?it/s]"
      ]
     },
     "metadata": {},
     "output_type": "display_data"
    },
    {
     "data": {
      "application/vnd.jupyter.widget-view+json": {
       "model_id": "7cd9f2f7634144b6a154a06956d27e97",
       "version_major": 2,
       "version_minor": 0
      },
      "text/plain": [
       "Batches:   0%|          | 0/17 [00:00<?, ?it/s]"
      ]
     },
     "metadata": {},
     "output_type": "display_data"
    },
    {
     "data": {
      "application/vnd.jupyter.widget-view+json": {
       "model_id": "1d02e344c629435ead9703a3dae6b188",
       "version_major": 2,
       "version_minor": 0
      },
      "text/plain": [
       "Batches:   0%|          | 0/17 [00:00<?, ?it/s]"
      ]
     },
     "metadata": {},
     "output_type": "display_data"
    },
    {
     "name": "stdout",
     "output_type": "stream",
     "text": [
      "[nli-roberta-base] Alignment: 272.89117\n"
     ]
    },
    {
     "data": {
      "application/vnd.jupyter.widget-view+json": {
       "model_id": "495c82213aa348c4879aed257f2f7795",
       "version_major": 2,
       "version_minor": 0
      },
      "text/plain": [
       "Batches:   0%|          | 0/11 [00:00<?, ?it/s]"
      ]
     },
     "metadata": {},
     "output_type": "display_data"
    },
    {
     "name": "stdout",
     "output_type": "stream",
     "text": [
      "[nli-roberta-base] Uniformity: -16.950438\n"
     ]
    },
    {
     "data": {
      "application/vnd.jupyter.widget-view+json": {
       "model_id": "d10527c87d9548499fd1b6586111815d",
       "version_major": 2,
       "version_minor": 0
      },
      "text/plain": [
       "Batches:   0%|          | 0/51 [00:00<?, ?it/s]"
      ]
     },
     "metadata": {},
     "output_type": "display_data"
    },
    {
     "name": "stderr",
     "output_type": "stream",
     "text": [
      "12/04/2022 21:38:31 - INFO - sentence_transformers.SentenceTransformer -   Load pretrained SentenceTransformer: stsb-bert-base\n"
     ]
    },
    {
     "name": "stdout",
     "output_type": "stream",
     "text": [
      "[nli-roberta-base] Uniformity (All): -11.436182\n"
     ]
    },
    {
     "name": "stderr",
     "output_type": "stream",
     "text": [
      "12/04/2022 21:38:32 - INFO - sentence_transformers.SentenceTransformer -   Use pytorch device: cuda\n"
     ]
    },
    {
     "data": {
      "application/vnd.jupyter.widget-view+json": {
       "model_id": "f188137c833941169e0876a336484895",
       "version_major": 2,
       "version_minor": 0
      },
      "text/plain": [
       "Batches:   0%|          | 0/1 [00:00<?, ?it/s]"
      ]
     },
     "metadata": {},
     "output_type": "display_data"
    },
    {
     "data": {
      "application/vnd.jupyter.widget-view+json": {
       "model_id": "e94bdb108a604606ab19bd9c64fa3917",
       "version_major": 2,
       "version_minor": 0
      },
      "text/plain": [
       "Batches:   0%|          | 0/17 [00:00<?, ?it/s]"
      ]
     },
     "metadata": {},
     "output_type": "display_data"
    },
    {
     "data": {
      "application/vnd.jupyter.widget-view+json": {
       "model_id": "3711a854bc094ec1b114622bfe5d4d68",
       "version_major": 2,
       "version_minor": 0
      },
      "text/plain": [
       "Batches:   0%|          | 0/17 [00:00<?, ?it/s]"
      ]
     },
     "metadata": {},
     "output_type": "display_data"
    },
    {
     "name": "stdout",
     "output_type": "stream",
     "text": [
      "[stsb-bert-base] Alignment: 165.91066\n"
     ]
    },
    {
     "data": {
      "application/vnd.jupyter.widget-view+json": {
       "model_id": "b57fa42b790d423f8aef797f8154a127",
       "version_major": 2,
       "version_minor": 0
      },
      "text/plain": [
       "Batches:   0%|          | 0/11 [00:00<?, ?it/s]"
      ]
     },
     "metadata": {},
     "output_type": "display_data"
    },
    {
     "name": "stdout",
     "output_type": "stream",
     "text": [
      "[stsb-bert-base] Uniformity: -17.821161\n"
     ]
    },
    {
     "data": {
      "application/vnd.jupyter.widget-view+json": {
       "model_id": "04e994413fdb4713bba551141c23b96c",
       "version_major": 2,
       "version_minor": 0
      },
      "text/plain": [
       "Batches:   0%|          | 0/51 [00:00<?, ?it/s]"
      ]
     },
     "metadata": {},
     "output_type": "display_data"
    },
    {
     "name": "stderr",
     "output_type": "stream",
     "text": [
      "12/04/2022 21:38:35 - INFO - sentence_transformers.SentenceTransformer -   Load pretrained SentenceTransformer: stsb-roberta-base\n"
     ]
    },
    {
     "name": "stdout",
     "output_type": "stream",
     "text": [
      "[stsb-bert-base] Uniformity (All): -11.436219\n"
     ]
    },
    {
     "name": "stderr",
     "output_type": "stream",
     "text": [
      "12/04/2022 21:38:36 - INFO - sentence_transformers.SentenceTransformer -   Use pytorch device: cuda\n"
     ]
    },
    {
     "data": {
      "application/vnd.jupyter.widget-view+json": {
       "model_id": "b579456f3edb4a5aa4166f73f51f9456",
       "version_major": 2,
       "version_minor": 0
      },
      "text/plain": [
       "Batches:   0%|          | 0/1 [00:00<?, ?it/s]"
      ]
     },
     "metadata": {},
     "output_type": "display_data"
    },
    {
     "data": {
      "application/vnd.jupyter.widget-view+json": {
       "model_id": "b0dbf6dafce641b59aab51e7d26cd808",
       "version_major": 2,
       "version_minor": 0
      },
      "text/plain": [
       "Batches:   0%|          | 0/17 [00:00<?, ?it/s]"
      ]
     },
     "metadata": {},
     "output_type": "display_data"
    },
    {
     "data": {
      "application/vnd.jupyter.widget-view+json": {
       "model_id": "edb60bc225c14f0480b4609b2a46dc47",
       "version_major": 2,
       "version_minor": 0
      },
      "text/plain": [
       "Batches:   0%|          | 0/17 [00:00<?, ?it/s]"
      ]
     },
     "metadata": {},
     "output_type": "display_data"
    },
    {
     "name": "stdout",
     "output_type": "stream",
     "text": [
      "[stsb-roberta-base] Alignment: 242.88684\n"
     ]
    },
    {
     "data": {
      "application/vnd.jupyter.widget-view+json": {
       "model_id": "4367f757887c486f84898fd3f9b323f2",
       "version_major": 2,
       "version_minor": 0
      },
      "text/plain": [
       "Batches:   0%|          | 0/11 [00:00<?, ?it/s]"
      ]
     },
     "metadata": {},
     "output_type": "display_data"
    },
    {
     "name": "stdout",
     "output_type": "stream",
     "text": [
      "[stsb-roberta-base] Uniformity: -17.610994\n"
     ]
    },
    {
     "data": {
      "application/vnd.jupyter.widget-view+json": {
       "model_id": "f69ac839d7bb484388ff1d931eb558b4",
       "version_major": 2,
       "version_minor": 0
      },
      "text/plain": [
       "Batches:   0%|          | 0/51 [00:00<?, ?it/s]"
      ]
     },
     "metadata": {},
     "output_type": "display_data"
    },
    {
     "name": "stderr",
     "output_type": "stream",
     "text": [
      "12/04/2022 21:38:39 - INFO - sentence_transformers.SentenceTransformer -   Load pretrained SentenceTransformer: bert-base-nli-stsb-mean-tokens\n"
     ]
    },
    {
     "name": "stdout",
     "output_type": "stream",
     "text": [
      "[stsb-roberta-base] Uniformity (All): -11.436294\n"
     ]
    },
    {
     "name": "stderr",
     "output_type": "stream",
     "text": [
      "12/04/2022 21:38:40 - INFO - sentence_transformers.SentenceTransformer -   Use pytorch device: cuda\n"
     ]
    },
    {
     "data": {
      "application/vnd.jupyter.widget-view+json": {
       "model_id": "e255777f2bba4513b999a4bad1ac28bb",
       "version_major": 2,
       "version_minor": 0
      },
      "text/plain": [
       "Batches:   0%|          | 0/1 [00:00<?, ?it/s]"
      ]
     },
     "metadata": {},
     "output_type": "display_data"
    },
    {
     "data": {
      "application/vnd.jupyter.widget-view+json": {
       "model_id": "bcd1214acb1e4c4b845047f968f1b4ce",
       "version_major": 2,
       "version_minor": 0
      },
      "text/plain": [
       "Batches:   0%|          | 0/17 [00:00<?, ?it/s]"
      ]
     },
     "metadata": {},
     "output_type": "display_data"
    },
    {
     "data": {
      "application/vnd.jupyter.widget-view+json": {
       "model_id": "a40094017e6a421cb8d13af055010735",
       "version_major": 2,
       "version_minor": 0
      },
      "text/plain": [
       "Batches:   0%|          | 0/17 [00:00<?, ?it/s]"
      ]
     },
     "metadata": {},
     "output_type": "display_data"
    },
    {
     "name": "stdout",
     "output_type": "stream",
     "text": [
      "[bert-base-nli-stsb-mean-tokens] Alignment: 165.91066\n"
     ]
    },
    {
     "data": {
      "application/vnd.jupyter.widget-view+json": {
       "model_id": "a94a65431c1043429fe8a02a80327a1c",
       "version_major": 2,
       "version_minor": 0
      },
      "text/plain": [
       "Batches:   0%|          | 0/11 [00:00<?, ?it/s]"
      ]
     },
     "metadata": {},
     "output_type": "display_data"
    },
    {
     "name": "stdout",
     "output_type": "stream",
     "text": [
      "[bert-base-nli-stsb-mean-tokens] Uniformity: -17.821161\n"
     ]
    },
    {
     "data": {
      "application/vnd.jupyter.widget-view+json": {
       "model_id": "3d3ea65e8a5e4413b23d51e76482c1fc",
       "version_major": 2,
       "version_minor": 0
      },
      "text/plain": [
       "Batches:   0%|          | 0/51 [00:00<?, ?it/s]"
      ]
     },
     "metadata": {},
     "output_type": "display_data"
    },
    {
     "name": "stderr",
     "output_type": "stream",
     "text": [
      "12/04/2022 21:38:42 - INFO - sentence_transformers.SentenceTransformer -   Load pretrained SentenceTransformer: roberta-base-nli-stsb-mean-tokens\n"
     ]
    },
    {
     "name": "stdout",
     "output_type": "stream",
     "text": [
      "[bert-base-nli-stsb-mean-tokens] Uniformity (All): -11.436219\n"
     ]
    },
    {
     "name": "stderr",
     "output_type": "stream",
     "text": [
      "12/04/2022 21:38:44 - INFO - sentence_transformers.SentenceTransformer -   Use pytorch device: cuda\n"
     ]
    },
    {
     "data": {
      "application/vnd.jupyter.widget-view+json": {
       "model_id": "23e7d6e0876a4d5a8a5caecd356533db",
       "version_major": 2,
       "version_minor": 0
      },
      "text/plain": [
       "Batches:   0%|          | 0/1 [00:00<?, ?it/s]"
      ]
     },
     "metadata": {},
     "output_type": "display_data"
    },
    {
     "data": {
      "application/vnd.jupyter.widget-view+json": {
       "model_id": "576797920c66453d8287291a04eab754",
       "version_major": 2,
       "version_minor": 0
      },
      "text/plain": [
       "Batches:   0%|          | 0/17 [00:00<?, ?it/s]"
      ]
     },
     "metadata": {},
     "output_type": "display_data"
    },
    {
     "data": {
      "application/vnd.jupyter.widget-view+json": {
       "model_id": "aa4c691c4f654fc8bbc2865473e00e02",
       "version_major": 2,
       "version_minor": 0
      },
      "text/plain": [
       "Batches:   0%|          | 0/17 [00:00<?, ?it/s]"
      ]
     },
     "metadata": {},
     "output_type": "display_data"
    },
    {
     "name": "stdout",
     "output_type": "stream",
     "text": [
      "[roberta-base-nli-stsb-mean-tokens] Alignment: 242.88684\n"
     ]
    },
    {
     "data": {
      "application/vnd.jupyter.widget-view+json": {
       "model_id": "9b1ef88719134c96aa8903281857e9df",
       "version_major": 2,
       "version_minor": 0
      },
      "text/plain": [
       "Batches:   0%|          | 0/11 [00:00<?, ?it/s]"
      ]
     },
     "metadata": {},
     "output_type": "display_data"
    },
    {
     "name": "stdout",
     "output_type": "stream",
     "text": [
      "[roberta-base-nli-stsb-mean-tokens] Uniformity: -17.610994\n"
     ]
    },
    {
     "data": {
      "application/vnd.jupyter.widget-view+json": {
       "model_id": "44bb4e4984324d57a429fab1f729a45d",
       "version_major": 2,
       "version_minor": 0
      },
      "text/plain": [
       "Batches:   0%|          | 0/51 [00:00<?, ?it/s]"
      ]
     },
     "metadata": {},
     "output_type": "display_data"
    },
    {
     "name": "stdout",
     "output_type": "stream",
     "text": [
      "[roberta-base-nli-stsb-mean-tokens] Uniformity (All): -11.436294\n",
      "CPU times: user 1min 18s, sys: 11.3 s, total: 1min 30s\n",
      "Wall time: 25.1 s\n"
     ]
    }
   ],
   "source": [
    "%%time\n",
    "\n",
    "model_list = [   \n",
    "    'nli-bert-base',\n",
    "    'nli-roberta-base',\n",
    "    'stsb-bert-base',\n",
    "    'stsb-roberta-base',\n",
    "    'bert-base-nli-stsb-mean-tokens',\n",
    "    'roberta-base-nli-stsb-mean-tokens'\n",
    "    ]\n",
    "\n",
    "test_sentence = 'This framework generates embeddings for each input sentence'\n",
    "\n",
    "for model_name in model_list:\n",
    "    \n",
    "    model = SentenceTransformer(model_name)\n",
    "    \n",
    "    # Embedding dimension 체크\n",
    "    if model.encode(test_sentence).shape[0] != 768:\n",
    "        print(f'Embedding dimension for {model_name} is not 768')\n",
    "        break\n",
    "        \n",
    "    # Alignment\n",
    "    q1_emb, q2_emb = get_sentence_embedding_align(align_csv, model)\n",
    "    print(f'[{model_name}] Alignment:', align_loss(q1_emb, q2_emb).numpy())\n",
    "    \n",
    "    # Uniformity\n",
    "    q_emb = get_sentence_embedding_uniform(uniform_csv, model) # train4_uniform.csv 사용\n",
    "    print(f'[{model_name}] Uniformity:', uniform_loss(q_emb).numpy())\n",
    "\n",
    "    q_emb = get_sentence_embedding_uniform_all(uniform_all_csv, model) # final_master_dataset.csv 사용\n",
    "    print(f'[{model_name}] Uniformity (All):', uniform_loss(q_emb).numpy())"
   ]
  },
  {
   "cell_type": "markdown",
   "id": "956a1ca2",
   "metadata": {},
   "source": [
    "## SimCSE"
   ]
  },
  {
   "cell_type": "code",
   "execution_count": null,
   "id": "22511dc3",
   "metadata": {},
   "outputs": [],
   "source": [
    "from simcse import SimCSE"
   ]
  },
  {
   "cell_type": "code",
   "execution_count": 8,
   "id": "0dd682f6",
   "metadata": {},
   "outputs": [
    {
     "name": "stderr",
     "output_type": "stream",
     "text": [
      "12/04/2022 21:38:49 - INFO - simcse.tool -   Use `cls_before_pooler` for unsupervised models. If you want to use other pooling policy, specify `pooler` argument.\n",
      "100%|██████████| 1/1 [00:00<00:00, 76.79it/s]\n",
      "100%|██████████| 9/9 [00:00<00:00, 28.13it/s]\n",
      "100%|██████████| 9/9 [00:00<00:00, 28.33it/s]\n"
     ]
    },
    {
     "name": "stdout",
     "output_type": "stream",
     "text": [
      "[princeton-nlp/unsup-simcse-bert-base-uncased] Alignment: 0.66342306\n"
     ]
    },
    {
     "name": "stderr",
     "output_type": "stream",
     "text": [
      "100%|██████████| 6/6 [00:00<00:00, 28.16it/s]\n"
     ]
    },
    {
     "name": "stdout",
     "output_type": "stream",
     "text": [
      "[princeton-nlp/unsup-simcse-bert-base-uncased] Uniformity: -2.160287\n"
     ]
    },
    {
     "name": "stderr",
     "output_type": "stream",
     "text": [
      "100%|██████████| 26/26 [00:00<00:00, 26.47it/s]\n"
     ]
    },
    {
     "name": "stdout",
     "output_type": "stream",
     "text": [
      "[princeton-nlp/unsup-simcse-bert-base-uncased] Uniformity (All): -2.1886444\n"
     ]
    },
    {
     "name": "stderr",
     "output_type": "stream",
     "text": [
      "12/04/2022 21:38:54 - INFO - simcse.tool -   Use `cls_before_pooler` for unsupervised models. If you want to use other pooling policy, specify `pooler` argument.\n",
      "100%|██████████| 1/1 [00:00<00:00, 64.92it/s]\n",
      "100%|██████████| 9/9 [00:00<00:00, 28.65it/s]\n",
      "100%|██████████| 9/9 [00:00<00:00, 29.05it/s]\n"
     ]
    },
    {
     "name": "stdout",
     "output_type": "stream",
     "text": [
      "[princeton-nlp/unsup-simcse-roberta-base] Alignment: 0.53692436\n"
     ]
    },
    {
     "name": "stderr",
     "output_type": "stream",
     "text": [
      "100%|██████████| 6/6 [00:00<00:00, 28.47it/s]\n"
     ]
    },
    {
     "name": "stdout",
     "output_type": "stream",
     "text": [
      "[princeton-nlp/unsup-simcse-roberta-base] Uniformity: -1.660558\n"
     ]
    },
    {
     "name": "stderr",
     "output_type": "stream",
     "text": [
      "100%|██████████| 26/26 [00:00<00:00, 26.23it/s]\n"
     ]
    },
    {
     "name": "stdout",
     "output_type": "stream",
     "text": [
      "[princeton-nlp/unsup-simcse-roberta-base] Uniformity (All): -1.760116\n"
     ]
    },
    {
     "name": "stderr",
     "output_type": "stream",
     "text": [
      "100%|██████████| 1/1 [00:00<00:00, 65.21it/s]\n",
      "100%|██████████| 9/9 [00:00<00:00, 29.63it/s]\n",
      "100%|██████████| 9/9 [00:00<00:00, 29.29it/s]\n"
     ]
    },
    {
     "name": "stdout",
     "output_type": "stream",
     "text": [
      "[princeton-nlp/sup-simcse-bert-base-uncased] Alignment: 0.7114831\n"
     ]
    },
    {
     "name": "stderr",
     "output_type": "stream",
     "text": [
      "100%|██████████| 6/6 [00:00<00:00, 27.96it/s]\n"
     ]
    },
    {
     "name": "stdout",
     "output_type": "stream",
     "text": [
      "[princeton-nlp/sup-simcse-bert-base-uncased] Uniformity: -2.472804\n"
     ]
    },
    {
     "name": "stderr",
     "output_type": "stream",
     "text": [
      "100%|██████████| 26/26 [00:00<00:00, 26.90it/s]\n"
     ]
    },
    {
     "name": "stdout",
     "output_type": "stream",
     "text": [
      "[princeton-nlp/sup-simcse-bert-base-uncased] Uniformity (All): -2.553935\n"
     ]
    },
    {
     "name": "stderr",
     "output_type": "stream",
     "text": [
      "100%|██████████| 1/1 [00:00<00:00, 63.70it/s]\n",
      "100%|██████████| 9/9 [00:00<00:00, 29.64it/s]\n",
      "100%|██████████| 9/9 [00:00<00:00, 28.74it/s]\n"
     ]
    },
    {
     "name": "stdout",
     "output_type": "stream",
     "text": [
      "[princeton-nlp/sup-simcse-roberta-base] Alignment: 0.7651381\n"
     ]
    },
    {
     "name": "stderr",
     "output_type": "stream",
     "text": [
      "100%|██████████| 6/6 [00:00<00:00, 28.54it/s]\n"
     ]
    },
    {
     "name": "stdout",
     "output_type": "stream",
     "text": [
      "[princeton-nlp/sup-simcse-roberta-base] Uniformity: -2.6867628\n"
     ]
    },
    {
     "name": "stderr",
     "output_type": "stream",
     "text": [
      "100%|██████████| 26/26 [00:00<00:00, 26.54it/s]"
     ]
    },
    {
     "name": "stdout",
     "output_type": "stream",
     "text": [
      "[princeton-nlp/sup-simcse-roberta-base] Uniformity (All): -2.7603693\n",
      "CPU times: user 38.4 s, sys: 5.51 s, total: 43.9 s\n",
      "Wall time: 19.6 s\n"
     ]
    },
    {
     "name": "stderr",
     "output_type": "stream",
     "text": [
      "\n"
     ]
    }
   ],
   "source": [
    "%%time\n",
    "\n",
    "model_list = [   \n",
    "    'princeton-nlp/unsup-simcse-bert-base-uncased',\n",
    "    'princeton-nlp/unsup-simcse-roberta-base',\n",
    "    'princeton-nlp/sup-simcse-bert-base-uncased',\n",
    "    'princeton-nlp/sup-simcse-roberta-base'\n",
    "    ]\n",
    "\n",
    "test_sentence = 'This framework generates embeddings for each input sentence'\n",
    "\n",
    "for model_name in model_list:\n",
    "    \n",
    "    model = SimCSE(model_name)\n",
    "    \n",
    "    # Embedding dimension 체크\n",
    "    if model.encode(test_sentence).shape[0] != 768:\n",
    "        print(f'Embedding dimension for {model_name} is not 768')\n",
    "        break\n",
    "        \n",
    "    # Alignment\n",
    "    q1_emb, q2_emb = get_sentence_embedding_align(align_csv, model)\n",
    "    print(f'[{model_name}] Alignment:', align_loss(q1_emb, q2_emb).numpy())\n",
    "    \n",
    "    # Uniformity\n",
    "    q_emb = get_sentence_embedding_uniform(uniform_csv, model) # train4_uniform.csv 사용\n",
    "    print(f'[{model_name}] Uniformity:', uniform_loss(q_emb).numpy())\n",
    "\n",
    "    q_emb = get_sentence_embedding_uniform_all(uniform_all_csv, model) # final_master_dataset.csv 사용\n",
    "    print(f'[{model_name}] Uniformity (All):', uniform_loss(q_emb).numpy())"
   ]
  },
  {
   "cell_type": "markdown",
   "id": "df5831ac",
   "metadata": {},
   "source": [
    "## DiffCSE"
   ]
  },
  {
   "cell_type": "code",
   "execution_count": 3,
   "id": "07924e51",
   "metadata": {},
   "outputs": [],
   "source": [
    "from DiffCSE.diffcse import DiffCSE"
   ]
  },
  {
   "cell_type": "code",
   "execution_count": 4,
   "id": "e2691ba5",
   "metadata": {},
   "outputs": [
    {
     "name": "stderr",
     "output_type": "stream",
     "text": [
      "Some weights of BertModel were not initialized from the model checkpoint at voidism/diffcse-bert-base-uncased-sts and are newly initialized: ['bert.pooler.dense.weight', 'bert.pooler.dense.bias']\n",
      "You should probably TRAIN this model on a down-stream task to be able to use it for predictions and inference.\n",
      "12/04/2022 21:53:50 - INFO - DiffCSE.diffcse.tool -   Use `cls_before_pooler` for DiffCSE models. If you want to use other pooling policy, specify `pooler` argument.\n",
      "100%|██████████| 1/1 [00:00<00:00, 31.94it/s]\n",
      "100%|██████████| 9/9 [00:00<00:00, 28.33it/s]\n",
      "100%|██████████| 9/9 [00:00<00:00, 29.80it/s]\n",
      " 33%|███▎      | 2/6 [00:00<00:00, 19.07it/s]"
     ]
    },
    {
     "name": "stdout",
     "output_type": "stream",
     "text": [
      "[voidism/diffcse-bert-base-uncased-sts] Alignment: 0.28357688\n"
     ]
    },
    {
     "name": "stderr",
     "output_type": "stream",
     "text": [
      "100%|██████████| 6/6 [00:00<00:00, 23.56it/s]\n",
      " 12%|█▏        | 3/26 [00:00<00:00, 24.87it/s]"
     ]
    },
    {
     "name": "stdout",
     "output_type": "stream",
     "text": [
      "[voidism/diffcse-bert-base-uncased-sts] Uniformity: -0.95707244\n"
     ]
    },
    {
     "name": "stderr",
     "output_type": "stream",
     "text": [
      "100%|██████████| 26/26 [00:00<00:00, 26.74it/s]\n"
     ]
    },
    {
     "name": "stdout",
     "output_type": "stream",
     "text": [
      "[voidism/diffcse-bert-base-uncased-sts] Uniformity (All): -0.97734153\n"
     ]
    },
    {
     "name": "stderr",
     "output_type": "stream",
     "text": [
      "Some weights of BertModel were not initialized from the model checkpoint at voidism/diffcse-bert-base-uncased-trans and are newly initialized: ['bert.pooler.dense.weight', 'bert.pooler.dense.bias']\n",
      "You should probably TRAIN this model on a down-stream task to be able to use it for predictions and inference.\n",
      "12/04/2022 21:54:04 - INFO - DiffCSE.diffcse.tool -   Use `cls_before_pooler` for DiffCSE models. If you want to use other pooling policy, specify `pooler` argument.\n",
      "100%|██████████| 1/1 [00:00<00:00, 66.64it/s]\n",
      "100%|██████████| 9/9 [00:00<00:00, 30.00it/s]\n",
      "100%|██████████| 9/9 [00:00<00:00, 30.64it/s]\n",
      " 50%|█████     | 3/6 [00:00<00:00, 28.68it/s]"
     ]
    },
    {
     "name": "stdout",
     "output_type": "stream",
     "text": [
      "[voidism/diffcse-bert-base-uncased-trans] Alignment: 0.2766701\n"
     ]
    },
    {
     "name": "stderr",
     "output_type": "stream",
     "text": [
      "100%|██████████| 6/6 [00:00<00:00, 28.03it/s]\n",
      " 12%|█▏        | 3/26 [00:00<00:00, 24.83it/s]"
     ]
    },
    {
     "name": "stdout",
     "output_type": "stream",
     "text": [
      "[voidism/diffcse-bert-base-uncased-trans] Uniformity: -0.8962289\n"
     ]
    },
    {
     "name": "stderr",
     "output_type": "stream",
     "text": [
      "100%|██████████| 26/26 [00:00<00:00, 26.67it/s]\n"
     ]
    },
    {
     "name": "stdout",
     "output_type": "stream",
     "text": [
      "[voidism/diffcse-bert-base-uncased-trans] Uniformity (All): -0.8996946\n"
     ]
    },
    {
     "name": "stderr",
     "output_type": "stream",
     "text": [
      "Some weights of RobertaModel were not initialized from the model checkpoint at voidism/diffcse-roberta-base-sts and are newly initialized: ['roberta.pooler.dense.weight', 'roberta.pooler.dense.bias']\n",
      "You should probably TRAIN this model on a down-stream task to be able to use it for predictions and inference.\n",
      "12/04/2022 21:54:17 - INFO - DiffCSE.diffcse.tool -   Use `cls_before_pooler` for DiffCSE models. If you want to use other pooling policy, specify `pooler` argument.\n",
      "100%|██████████| 1/1 [00:00<00:00, 65.02it/s]\n",
      "100%|██████████| 9/9 [00:00<00:00, 30.01it/s]\n",
      "100%|██████████| 9/9 [00:00<00:00, 29.78it/s]\n",
      " 50%|█████     | 3/6 [00:00<00:00, 29.95it/s]"
     ]
    },
    {
     "name": "stdout",
     "output_type": "stream",
     "text": [
      "[voidism/diffcse-roberta-base-sts] Alignment: 0.20578939\n"
     ]
    },
    {
     "name": "stderr",
     "output_type": "stream",
     "text": [
      "100%|██████████| 6/6 [00:00<00:00, 28.90it/s]\n",
      " 12%|█▏        | 3/26 [00:00<00:01, 22.59it/s]"
     ]
    },
    {
     "name": "stdout",
     "output_type": "stream",
     "text": [
      "[voidism/diffcse-roberta-base-sts] Uniformity: -0.69976825\n"
     ]
    },
    {
     "name": "stderr",
     "output_type": "stream",
     "text": [
      "100%|██████████| 26/26 [00:00<00:00, 26.46it/s]\n"
     ]
    },
    {
     "name": "stdout",
     "output_type": "stream",
     "text": [
      "[voidism/diffcse-roberta-base-sts] Uniformity (All): -0.7303018\n"
     ]
    },
    {
     "name": "stderr",
     "output_type": "stream",
     "text": [
      "Some weights of RobertaModel were not initialized from the model checkpoint at voidism/diffcse-roberta-base-trans and are newly initialized: ['roberta.pooler.dense.weight', 'roberta.pooler.dense.bias']\n",
      "You should probably TRAIN this model on a down-stream task to be able to use it for predictions and inference.\n",
      "12/04/2022 21:54:30 - INFO - DiffCSE.diffcse.tool -   Use `cls_before_pooler` for DiffCSE models. If you want to use other pooling policy, specify `pooler` argument.\n",
      "100%|██████████| 1/1 [00:00<00:00, 64.08it/s]\n",
      "100%|██████████| 9/9 [00:00<00:00, 30.28it/s]\n",
      "100%|██████████| 9/9 [00:00<00:00, 29.10it/s]\n",
      " 67%|██████▋   | 4/6 [00:00<00:00, 28.87it/s]"
     ]
    },
    {
     "name": "stdout",
     "output_type": "stream",
     "text": [
      "[voidism/diffcse-roberta-base-trans] Alignment: 0.1858467\n"
     ]
    },
    {
     "name": "stderr",
     "output_type": "stream",
     "text": [
      "100%|██████████| 6/6 [00:00<00:00, 29.05it/s]\n",
      " 12%|█▏        | 3/26 [00:00<00:00, 23.85it/s]"
     ]
    },
    {
     "name": "stdout",
     "output_type": "stream",
     "text": [
      "[voidism/diffcse-roberta-base-trans] Uniformity: -0.6210463\n"
     ]
    },
    {
     "name": "stderr",
     "output_type": "stream",
     "text": [
      "100%|██████████| 26/26 [00:00<00:00, 26.75it/s]"
     ]
    },
    {
     "name": "stdout",
     "output_type": "stream",
     "text": [
      "[voidism/diffcse-roberta-base-trans] Uniformity (All): -0.6481909\n",
      "CPU times: user 48 s, sys: 14.6 s, total: 1min 2s\n",
      "Wall time: 50.9 s\n"
     ]
    },
    {
     "name": "stderr",
     "output_type": "stream",
     "text": [
      "\n"
     ]
    }
   ],
   "source": [
    "%%time\n",
    "\n",
    "model_list = [   \n",
    "    'voidism/diffcse-bert-base-uncased-sts',\n",
    "    'voidism/diffcse-bert-base-uncased-trans',\n",
    "    'voidism/diffcse-roberta-base-sts',\n",
    "    'voidism/diffcse-roberta-base-trans'\n",
    "    ]\n",
    "\n",
    "test_sentence = 'This framework generates embeddings for each input sentence'\n",
    "\n",
    "for model_name in model_list:\n",
    "    \n",
    "    model = DiffCSE(model_name)\n",
    "    \n",
    "    # Embedding dimension 체크\n",
    "    if model.encode(test_sentence).shape[0] != 768:\n",
    "        print(f'Embedding dimension for {model_name} is not 768')\n",
    "        break\n",
    "        \n",
    "    # Alignment\n",
    "    q1_emb, q2_emb = get_sentence_embedding_align(align_csv, model)\n",
    "    print(f'[{model_name}] Alignment:', align_loss(q1_emb, q2_emb).numpy())\n",
    "    \n",
    "    # Uniformity\n",
    "    q_emb = get_sentence_embedding_uniform(uniform_csv, model) # train4_uniform.csv 사용\n",
    "    print(f'[{model_name}] Uniformity:', uniform_loss(q_emb).numpy())\n",
    "\n",
    "    q_emb = get_sentence_embedding_uniform_all(uniform_all_csv, model) # final_master_dataset.csv 사용\n",
    "    print(f'[{model_name}] Uniformity (All):', uniform_loss(q_emb).numpy())"
   ]
  },
  {
   "cell_type": "markdown",
   "id": "225508bb",
   "metadata": {},
   "source": [
    "## PromCSE\n",
    "- PromCSE는 코드 구조가 달라서 (args 사용함) 바로 python script로 실행\n",
    "```\n",
    "cd PromCSE\n",
    "python promcse_encoder.py\n",
    "```\n",
    "\n",
    "- 결과\n",
    " - Alignment: 0.90093094\n",
    " - Uniformity: -2.7525558\n",
    " - Uniformity (All): -2.8021905"
   ]
  }
 ],
 "metadata": {
  "kernelspec": {
   "display_name": "Python [conda env:promcse]",
   "language": "python",
   "name": "conda-env-promcse-py"
  },
  "language_info": {
   "codemirror_mode": {
    "name": "ipython",
    "version": 3
   },
   "file_extension": ".py",
   "mimetype": "text/x-python",
   "name": "python",
   "nbconvert_exporter": "python",
   "pygments_lexer": "ipython3",
   "version": "3.9.5"
  }
 },
 "nbformat": 4,
 "nbformat_minor": 5
}
