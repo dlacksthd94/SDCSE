{
 "cells": [
  {
   "cell_type": "markdown",
   "id": "b3ae8286",
   "metadata": {},
   "source": [
    "## 가상환경\n",
    "- BERT, SBERT, SimCSE: s-bert\n",
    "- DiffCSE: diffcse\n",
    "- PromCSE: promcse"
   ]
  },
  {
   "cell_type": "code",
   "execution_count": 1,
   "id": "481f8d6a",
   "metadata": {},
   "outputs": [],
   "source": [
    "import torch\n",
    "import numpy as np\n",
    "import csv\n",
    "from tqdm.notebook import tqdm\n",
    "\n",
    "from covid_q.code.get_align_uniform import *"
   ]
  },
  {
   "cell_type": "code",
   "execution_count": 2,
   "id": "3bb06c83",
   "metadata": {},
   "outputs": [],
   "source": [
    "align_csv = 'covid_q/data/positive_pairs.csv'\n",
    "uniform_csv = 'covid_q/data/train4_uniform.csv'\n",
    "uniform_all_csv = 'covid_q/data/final_master_dataset.csv'"
   ]
  },
  {
   "cell_type": "markdown",
   "id": "c8041fce",
   "metadata": {},
   "source": [
    "## Output Embedding Vector Normalized 여부 확인"
   ]
  },
  {
   "cell_type": "code",
   "execution_count": 3,
   "id": "1c579a00",
   "metadata": {},
   "outputs": [],
   "source": [
    "from numpy import linalg as LA\n",
    "\n",
    "test_sentence = 'This framework generates embeddings for each input sentence'"
   ]
  },
  {
   "cell_type": "code",
   "execution_count": 4,
   "id": "647d32ba",
   "metadata": {},
   "outputs": [
    {
     "name": "stderr",
     "output_type": "stream",
     "text": [
      "Some weights of the model checkpoint at bert-base-uncased were not used when initializing BertModel: ['cls.predictions.transform.LayerNorm.bias', 'cls.predictions.transform.dense.bias', 'cls.predictions.bias', 'cls.seq_relationship.weight', 'cls.predictions.transform.dense.weight', 'cls.seq_relationship.bias', 'cls.predictions.transform.LayerNorm.weight', 'cls.predictions.decoder.weight']\n",
      "- This IS expected if you are initializing BertModel from the checkpoint of a model trained on another task or with another architecture (e.g. initializing a BertForSequenceClassification model from a BertForPreTraining model).\n",
      "- This IS NOT expected if you are initializing BertModel from the checkpoint of a model that you expect to be exactly identical (initializing a BertForSequenceClassification model from a BertForSequenceClassification model).\n",
      "12/05/2022 19:52:57 - INFO - sentence_transformers.SentenceTransformer -   Load pretrained SentenceTransformer: nli-roberta-base\n",
      "12/05/2022 19:53:02 - INFO - sentence_transformers.SentenceTransformer -   Use pytorch device: cuda\n",
      "12/05/2022 19:53:05 - INFO - simcse.tool -   Use `cls_before_pooler` for unsupervised models. If you want to use other pooling policy, specify `pooler` argument.\n"
     ]
    }
   ],
   "source": [
    "# 가상환경 s-bert\n",
    "from transformers import BertModel, BertTokenizer\n",
    "from sentence_transformers import SentenceTransformer\n",
    "from simcse import SimCSE\n",
    "\n",
    "tokenizer_bert = BertTokenizer.from_pretrained('bert-base-uncased')\n",
    "model_bert = BertModel.from_pretrained('bert-base-uncased')\n",
    "model_sbert = SentenceTransformer('nli-roberta-base')\n",
    "model_simcse = SimCSE('princeton-nlp/unsup-simcse-bert-base-uncased')"
   ]
  },
  {
   "cell_type": "code",
   "execution_count": 5,
   "id": "e04f8e68",
   "metadata": {},
   "outputs": [
    {
     "name": "stderr",
     "output_type": "stream",
     "text": [
      "Some weights of the model checkpoint at bert-base-uncased were not used when initializing BertModel: ['cls.predictions.transform.LayerNorm.bias', 'cls.predictions.transform.dense.bias', 'cls.predictions.bias', 'cls.seq_relationship.weight', 'cls.predictions.transform.dense.weight', 'cls.seq_relationship.bias', 'cls.predictions.transform.LayerNorm.weight', 'cls.predictions.decoder.weight']\n",
      "- This IS expected if you are initializing BertModel from the checkpoint of a model trained on another task or with another architecture (e.g. initializing a BertForSequenceClassification model from a BertForPreTraining model).\n",
      "- This IS NOT expected if you are initializing BertModel from the checkpoint of a model that you expect to be exactly identical (initializing a BertForSequenceClassification model from a BertForSequenceClassification model).\n",
      "12/05/2022 19:53:08 - INFO - sentence_transformers.SentenceTransformer -   Load pretrained SentenceTransformer: nli-roberta-base\n",
      "12/05/2022 19:53:09 - INFO - sentence_transformers.SentenceTransformer -   Use pytorch device: cuda\n",
      "12/05/2022 19:53:12 - INFO - simcse.tool -   Use `cls_before_pooler` for unsupervised models. If you want to use other pooling policy, specify `pooler` argument.\n"
     ]
    },
    {
     "name": "stdout",
     "output_type": "stream",
     "text": [
      "BERT: 0.9999997\n"
     ]
    },
    {
     "data": {
      "application/vnd.jupyter.widget-view+json": {
       "model_id": "5b7da970f1be46459e5b8597b075eec8",
       "version_major": 2,
       "version_minor": 0
      },
      "text/plain": [
       "Batches:   0%|          | 0/1 [00:00<?, ?it/s]"
      ]
     },
     "metadata": {},
     "output_type": "display_data"
    },
    {
     "name": "stdout",
     "output_type": "stream",
     "text": [
      "SBERT: 21.112795\n"
     ]
    },
    {
     "name": "stderr",
     "output_type": "stream",
     "text": [
      "100%|██████████| 1/1 [00:00<00:00, 77.82it/s]"
     ]
    },
    {
     "name": "stdout",
     "output_type": "stream",
     "text": [
      "SimCSE: 1.0\n"
     ]
    },
    {
     "name": "stderr",
     "output_type": "stream",
     "text": [
      "\n"
     ]
    }
   ],
   "source": [
    "# 가상환경 s-bert\n",
    "from transformers import BertModel, BertTokenizer\n",
    "from sentence_transformers import SentenceTransformer\n",
    "from simcse import SimCSE\n",
    "\n",
    "tokenizer_bert = BertTokenizer.from_pretrained('bert-base-uncased')\n",
    "model_bert = BertModel.from_pretrained('bert-base-uncased')\n",
    "model_sbert = SentenceTransformer('nli-roberta-base')\n",
    "model_simcse = SimCSE('princeton-nlp/unsup-simcse-bert-base-uncased')\n",
    "\n",
    "print('BERT:', LA.norm(get_embedding(test_sentence, tokenizer_bert, model_bert), 2)) # normalize하는 코드 추가함\n",
    "print('SBERT:', LA.norm(model_sbert.encode(test_sentence), 2))\n",
    "print('SimCSE:', LA.norm(model_simcse.encode(test_sentence), 2))"
   ]
  },
  {
   "cell_type": "code",
   "execution_count": 4,
   "id": "d8d439b1",
   "metadata": {},
   "outputs": [
    {
     "name": "stderr",
     "output_type": "stream",
     "text": [
      "Some weights of BertModel were not initialized from the model checkpoint at voidism/diffcse-bert-base-uncased-sts and are newly initialized: ['bert.pooler.dense.weight', 'bert.pooler.dense.bias']\n",
      "You should probably TRAIN this model on a down-stream task to be able to use it for predictions and inference.\n",
      "12/05/2022 20:03:48 - INFO - DiffCSE.diffcse.tool -   Use `cls_before_pooler` for DiffCSE models. If you want to use other pooling policy, specify `pooler` argument.\n",
      "100%|██████████| 1/1 [00:00<00:00, 30.19it/s]"
     ]
    },
    {
     "name": "stdout",
     "output_type": "stream",
     "text": [
      "DiffCSE: 1.0000001\n"
     ]
    },
    {
     "name": "stderr",
     "output_type": "stream",
     "text": [
      "\n"
     ]
    }
   ],
   "source": [
    "# 가상환경 diffcse\n",
    "from DiffCSE.diffcse import DiffCSE\n",
    "\n",
    "model_diffcse = DiffCSE('voidism/diffcse-bert-base-uncased-sts')\n",
    "\n",
    "print('DiffCSE:', LA.norm(model_diffcse.encode(test_sentence), 2))"
   ]
  },
  {
   "cell_type": "code",
   "execution_count": null,
   "id": "f17cad4c",
   "metadata": {},
   "outputs": [],
   "source": [
    "# 가상환경 promcse\n",
    "\n",
    "# promcse_encoder.py로 확인한 결과:\n",
    "# PromCSE: 1.0"
   ]
  },
  {
   "cell_type": "markdown",
   "id": "1d878eb5",
   "metadata": {},
   "source": [
    "## BERT"
   ]
  },
  {
   "cell_type": "code",
   "execution_count": 3,
   "id": "347c8ea8",
   "metadata": {},
   "outputs": [],
   "source": [
    "from transformers import BertModel, BertTokenizer"
   ]
  },
  {
   "cell_type": "code",
   "execution_count": 4,
   "id": "6c55c11e",
   "metadata": {},
   "outputs": [
    {
     "name": "stderr",
     "output_type": "stream",
     "text": [
      "Some weights of the model checkpoint at bert-base-uncased were not used when initializing BertModel: ['cls.predictions.transform.dense.weight', 'cls.predictions.bias', 'cls.seq_relationship.weight', 'cls.predictions.decoder.weight', 'cls.predictions.transform.LayerNorm.bias', 'cls.predictions.transform.LayerNorm.weight', 'cls.seq_relationship.bias', 'cls.predictions.transform.dense.bias']\n",
      "- This IS expected if you are initializing BertModel from the checkpoint of a model trained on another task or with another architecture (e.g. initializing a BertForSequenceClassification model from a BertForPreTraining model).\n",
      "- This IS NOT expected if you are initializing BertModel from the checkpoint of a model that you expect to be exactly identical (initializing a BertForSequenceClassification model from a BertForSequenceClassification model).\n",
      "Some weights of the model checkpoint at bert-base-uncased were not used when initializing BertModel: ['cls.predictions.transform.dense.weight', 'cls.predictions.bias', 'cls.seq_relationship.weight', 'cls.predictions.decoder.weight', 'cls.predictions.transform.LayerNorm.bias', 'cls.predictions.transform.LayerNorm.weight', 'cls.seq_relationship.bias', 'cls.predictions.transform.dense.bias']\n",
      "- This IS expected if you are initializing BertModel from the checkpoint of a model trained on another task or with another architecture (e.g. initializing a BertForSequenceClassification model from a BertForPreTraining model).\n",
      "- This IS NOT expected if you are initializing BertModel from the checkpoint of a model that you expect to be exactly identical (initializing a BertForSequenceClassification model from a BertForSequenceClassification model).\n"
     ]
    },
    {
     "data": {
      "text/plain": [
       "Embedding(30523, 768)"
      ]
     },
     "execution_count": 4,
     "metadata": {},
     "output_type": "execute_result"
    }
   ],
   "source": [
    "# BERT\n",
    "tokenizer = BertTokenizer.from_pretrained('bert-base-uncased')\n",
    "model = BertModel.from_pretrained('bert-base-uncased')\n",
    "\n",
    "tokenizer_add = BertTokenizer.from_pretrained('bert-base-uncased')\n",
    "model_add = BertModel.from_pretrained('bert-base-uncased')\n",
    "\n",
    "# Add vocabulary\n",
    "new_tokens = ['covid']\n",
    "num_added_toks = tokenizer_add.add_tokens(new_tokens)\n",
    "model_add.resize_token_embeddings(len(tokenizer_add))"
   ]
  },
  {
   "cell_type": "markdown",
   "id": "cdc96036",
   "metadata": {},
   "source": [
    "### Alignment"
   ]
  },
  {
   "cell_type": "code",
   "execution_count": 5,
   "id": "dfeece64",
   "metadata": {},
   "outputs": [
    {
     "name": "stdout",
     "output_type": "stream",
     "text": [
      "Alignment (Vocab added): 0.5184952\n",
      "Alignment: 0.46573868\n",
      "CPU times: user 35min 24s, sys: 1min 31s, total: 36min 55s\n",
      "Wall time: 1min 37s\n"
     ]
    }
   ],
   "source": [
    "%%time\n",
    "# Vocab 추가\n",
    "q1_emb_add, q2_emb_add = get_all_embeddings_align(align_csv, tokenizer_add, model_add)\n",
    "print('Alignment (Vocab added):', align_loss(q1_emb_add, q2_emb_add).numpy())\n",
    "\n",
    "# Vocab 추가 x\n",
    "q1_emb, q2_emb = get_all_embeddings_align(align_csv, tokenizer, model)\n",
    "print('Alignment:', align_loss(q1_emb, q2_emb).numpy())"
   ]
  },
  {
   "cell_type": "markdown",
   "id": "72c4da83",
   "metadata": {},
   "source": [
    "### Uniformity"
   ]
  },
  {
   "cell_type": "code",
   "execution_count": 6,
   "id": "60671258",
   "metadata": {},
   "outputs": [
    {
     "name": "stdout",
     "output_type": "stream",
     "text": [
      "Uniformity (Vocab added): -1.4912271\n",
      "Uniformity: -1.3666482\n",
      "CPU times: user 12min 2s, sys: 30.9 s, total: 12min 33s\n",
      "Wall time: 33 s\n"
     ]
    }
   ],
   "source": [
    "%%time\n",
    "# train4_uniform.csv 사용\n",
    "\n",
    "# Vocab 추가\n",
    "q_emb_add = get_all_embeddings_uniform(uniform_csv, tokenizer_add, model_add)\n",
    "print('Uniformity (Vocab added):', uniform_loss(q_emb_add).numpy())\n",
    "\n",
    "# Vocab 추가 x\n",
    "q_emb = get_all_embeddings_uniform(uniform_csv, tokenizer, model)\n",
    "print('Uniformity:', uniform_loss(q_emb).numpy())"
   ]
  },
  {
   "cell_type": "code",
   "execution_count": 7,
   "id": "52fb1c58",
   "metadata": {},
   "outputs": [
    {
     "name": "stdout",
     "output_type": "stream",
     "text": [
      "Uniformity (All) (Vocab added): -1.4989414\n",
      "Uniformity (All): -1.386892\n",
      "CPU times: user 55min 30s, sys: 2min 13s, total: 57min 43s\n",
      "Wall time: 2min 31s\n"
     ]
    }
   ],
   "source": [
    "%%time\n",
    "# final_master_dataset.csv 사용\n",
    "\n",
    "# Vocab 추가\n",
    "q_emb_add = get_all_embeddings_uniform_all(uniform_all_csv, tokenizer_add, model_add)\n",
    "print('Uniformity (All) (Vocab added):', uniform_loss(q_emb_add).numpy())\n",
    "\n",
    "# Vocab 추가 x\n",
    "q_emb = get_all_embeddings_uniform_all(uniform_all_csv, tokenizer, model)\n",
    "print('Uniformity (All):', uniform_loss(q_emb).numpy())"
   ]
  },
  {
   "cell_type": "markdown",
   "id": "af9b090e",
   "metadata": {},
   "source": [
    "## SBERT"
   ]
  },
  {
   "cell_type": "code",
   "execution_count": 3,
   "id": "600e2b90",
   "metadata": {},
   "outputs": [],
   "source": [
    "from sentence_transformers import SentenceTransformer"
   ]
  },
  {
   "cell_type": "code",
   "execution_count": 4,
   "id": "366369f4",
   "metadata": {
    "scrolled": true
   },
   "outputs": [
    {
     "name": "stdout",
     "output_type": "stream",
     "text": [
      "[nli-bert-base] Alignment: 1.1255863\n",
      "[nli-bert-base] Uniformity: -4.8261204\n",
      "[nli-bert-base] Uniformity (All): -1.2439708\n",
      "[nli-roberta-base] Alignment: 1.1763544\n",
      "[nli-roberta-base] Uniformity: -4.8763666\n",
      "[nli-roberta-base] Uniformity (All): -1.2442255\n",
      "[stsb-bert-base] Alignment: 1.2876233\n",
      "[stsb-bert-base] Uniformity: -5.3902197\n",
      "[stsb-bert-base] Uniformity (All): -1.3850875\n",
      "[stsb-roberta-base] Alignment: 1.2763783\n",
      "[stsb-roberta-base] Uniformity: -5.2100806\n",
      "[stsb-roberta-base] Uniformity (All): -1.3764973\n",
      "[bert-base-nli-stsb-mean-tokens] Alignment: 1.2876233\n",
      "[bert-base-nli-stsb-mean-tokens] Uniformity: -5.3902197\n",
      "[bert-base-nli-stsb-mean-tokens] Uniformity (All): -1.3850875\n",
      "[roberta-base-nli-stsb-mean-tokens] Alignment: 1.2763783\n",
      "[roberta-base-nli-stsb-mean-tokens] Uniformity: -5.2100806\n",
      "[roberta-base-nli-stsb-mean-tokens] Uniformity (All): -1.3764973\n",
      "CPU times: user 1min 18s, sys: 14.7 s, total: 1min 33s\n",
      "Wall time: 26.7 s\n"
     ]
    }
   ],
   "source": [
    "%%time\n",
    "\n",
    "model_list = [   \n",
    "    'nli-bert-base',\n",
    "    'nli-roberta-base',\n",
    "    'stsb-bert-base',\n",
    "    'stsb-roberta-base',\n",
    "    'bert-base-nli-stsb-mean-tokens',\n",
    "    'roberta-base-nli-stsb-mean-tokens'\n",
    "    ]\n",
    "\n",
    "test_sentence = 'This framework generates embeddings for each input sentence'\n",
    "\n",
    "for model_name in model_list:\n",
    "    \n",
    "    model = SentenceTransformer(model_name)\n",
    "    \n",
    "    # Embedding dimension 체크\n",
    "    if model.encode(test_sentence).shape[0] != 768:\n",
    "        print(f'Embedding dimension for {model_name} is not 768')\n",
    "        break\n",
    "        \n",
    "    # Alignment\n",
    "    q1_emb, q2_emb = get_sentence_embedding_align(align_csv, model, unit=True)\n",
    "    print(f'[{model_name}] Alignment:', align_loss(q1_emb, q2_emb).numpy())\n",
    "    \n",
    "    # Uniformity\n",
    "    q_emb = get_sentence_embedding_uniform(uniform_csv, model, unit=True) # train4_uniform.csv 사용\n",
    "    print(f'[{model_name}] Uniformity:', uniform_loss(q_emb).numpy())\n",
    "\n",
    "    q_emb = get_sentence_embedding_uniform_all(uniform_all_csv, model, unit=True) # final_master_dataset.csv 사용\n",
    "    print(f'[{model_name}] Uniformity (All):', uniform_loss(q_emb).numpy())"
   ]
  },
  {
   "cell_type": "markdown",
   "id": "956a1ca2",
   "metadata": {},
   "source": [
    "## SimCSE"
   ]
  },
  {
   "cell_type": "code",
   "execution_count": 10,
   "id": "22511dc3",
   "metadata": {},
   "outputs": [],
   "source": [
    "from simcse import SimCSE"
   ]
  },
  {
   "cell_type": "code",
   "execution_count": 8,
   "id": "0dd682f6",
   "metadata": {},
   "outputs": [
    {
     "name": "stderr",
     "output_type": "stream",
     "text": [
      "12/04/2022 21:38:49 - INFO - simcse.tool -   Use `cls_before_pooler` for unsupervised models. If you want to use other pooling policy, specify `pooler` argument.\n",
      "100%|██████████| 1/1 [00:00<00:00, 76.79it/s]\n",
      "100%|██████████| 9/9 [00:00<00:00, 28.13it/s]\n",
      "100%|██████████| 9/9 [00:00<00:00, 28.33it/s]\n"
     ]
    },
    {
     "name": "stdout",
     "output_type": "stream",
     "text": [
      "[princeton-nlp/unsup-simcse-bert-base-uncased] Alignment: 0.66342306\n"
     ]
    },
    {
     "name": "stderr",
     "output_type": "stream",
     "text": [
      "100%|██████████| 6/6 [00:00<00:00, 28.16it/s]\n"
     ]
    },
    {
     "name": "stdout",
     "output_type": "stream",
     "text": [
      "[princeton-nlp/unsup-simcse-bert-base-uncased] Uniformity: -2.160287\n"
     ]
    },
    {
     "name": "stderr",
     "output_type": "stream",
     "text": [
      "100%|██████████| 26/26 [00:00<00:00, 26.47it/s]\n"
     ]
    },
    {
     "name": "stdout",
     "output_type": "stream",
     "text": [
      "[princeton-nlp/unsup-simcse-bert-base-uncased] Uniformity (All): -2.1886444\n"
     ]
    },
    {
     "name": "stderr",
     "output_type": "stream",
     "text": [
      "12/04/2022 21:38:54 - INFO - simcse.tool -   Use `cls_before_pooler` for unsupervised models. If you want to use other pooling policy, specify `pooler` argument.\n",
      "100%|██████████| 1/1 [00:00<00:00, 64.92it/s]\n",
      "100%|██████████| 9/9 [00:00<00:00, 28.65it/s]\n",
      "100%|██████████| 9/9 [00:00<00:00, 29.05it/s]\n"
     ]
    },
    {
     "name": "stdout",
     "output_type": "stream",
     "text": [
      "[princeton-nlp/unsup-simcse-roberta-base] Alignment: 0.53692436\n"
     ]
    },
    {
     "name": "stderr",
     "output_type": "stream",
     "text": [
      "100%|██████████| 6/6 [00:00<00:00, 28.47it/s]\n"
     ]
    },
    {
     "name": "stdout",
     "output_type": "stream",
     "text": [
      "[princeton-nlp/unsup-simcse-roberta-base] Uniformity: -1.660558\n"
     ]
    },
    {
     "name": "stderr",
     "output_type": "stream",
     "text": [
      "100%|██████████| 26/26 [00:00<00:00, 26.23it/s]\n"
     ]
    },
    {
     "name": "stdout",
     "output_type": "stream",
     "text": [
      "[princeton-nlp/unsup-simcse-roberta-base] Uniformity (All): -1.760116\n"
     ]
    },
    {
     "name": "stderr",
     "output_type": "stream",
     "text": [
      "100%|██████████| 1/1 [00:00<00:00, 65.21it/s]\n",
      "100%|██████████| 9/9 [00:00<00:00, 29.63it/s]\n",
      "100%|██████████| 9/9 [00:00<00:00, 29.29it/s]\n"
     ]
    },
    {
     "name": "stdout",
     "output_type": "stream",
     "text": [
      "[princeton-nlp/sup-simcse-bert-base-uncased] Alignment: 0.7114831\n"
     ]
    },
    {
     "name": "stderr",
     "output_type": "stream",
     "text": [
      "100%|██████████| 6/6 [00:00<00:00, 27.96it/s]\n"
     ]
    },
    {
     "name": "stdout",
     "output_type": "stream",
     "text": [
      "[princeton-nlp/sup-simcse-bert-base-uncased] Uniformity: -2.472804\n"
     ]
    },
    {
     "name": "stderr",
     "output_type": "stream",
     "text": [
      "100%|██████████| 26/26 [00:00<00:00, 26.90it/s]\n"
     ]
    },
    {
     "name": "stdout",
     "output_type": "stream",
     "text": [
      "[princeton-nlp/sup-simcse-bert-base-uncased] Uniformity (All): -2.553935\n"
     ]
    },
    {
     "name": "stderr",
     "output_type": "stream",
     "text": [
      "100%|██████████| 1/1 [00:00<00:00, 63.70it/s]\n",
      "100%|██████████| 9/9 [00:00<00:00, 29.64it/s]\n",
      "100%|██████████| 9/9 [00:00<00:00, 28.74it/s]\n"
     ]
    },
    {
     "name": "stdout",
     "output_type": "stream",
     "text": [
      "[princeton-nlp/sup-simcse-roberta-base] Alignment: 0.7651381\n"
     ]
    },
    {
     "name": "stderr",
     "output_type": "stream",
     "text": [
      "100%|██████████| 6/6 [00:00<00:00, 28.54it/s]\n"
     ]
    },
    {
     "name": "stdout",
     "output_type": "stream",
     "text": [
      "[princeton-nlp/sup-simcse-roberta-base] Uniformity: -2.6867628\n"
     ]
    },
    {
     "name": "stderr",
     "output_type": "stream",
     "text": [
      "100%|██████████| 26/26 [00:00<00:00, 26.54it/s]"
     ]
    },
    {
     "name": "stdout",
     "output_type": "stream",
     "text": [
      "[princeton-nlp/sup-simcse-roberta-base] Uniformity (All): -2.7603693\n",
      "CPU times: user 38.4 s, sys: 5.51 s, total: 43.9 s\n",
      "Wall time: 19.6 s\n"
     ]
    },
    {
     "name": "stderr",
     "output_type": "stream",
     "text": [
      "\n"
     ]
    }
   ],
   "source": [
    "%%time\n",
    "\n",
    "model_list = [   \n",
    "    'princeton-nlp/unsup-simcse-bert-base-uncased',\n",
    "    'princeton-nlp/unsup-simcse-roberta-base',\n",
    "    'princeton-nlp/sup-simcse-bert-base-uncased',\n",
    "    'princeton-nlp/sup-simcse-roberta-base'\n",
    "    ]\n",
    "\n",
    "test_sentence = 'This framework generates embeddings for each input sentence'\n",
    "\n",
    "for model_name in model_list:\n",
    "    \n",
    "    model = SimCSE(model_name)\n",
    "    \n",
    "    # Embedding dimension 체크\n",
    "    if model.encode(test_sentence).shape[0] != 768:\n",
    "        print(f'Embedding dimension for {model_name} is not 768')\n",
    "        break\n",
    "        \n",
    "    # Alignment\n",
    "    q1_emb, q2_emb = get_sentence_embedding_align(align_csv, model)\n",
    "    print(f'[{model_name}] Alignment:', align_loss(q1_emb, q2_emb).numpy())\n",
    "    \n",
    "    # Uniformity\n",
    "    q_emb = get_sentence_embedding_uniform(uniform_csv, model) # train4_uniform.csv 사용\n",
    "    print(f'[{model_name}] Uniformity:', uniform_loss(q_emb).numpy())\n",
    "\n",
    "    q_emb = get_sentence_embedding_uniform_all(uniform_all_csv, model) # final_master_dataset.csv 사용\n",
    "    print(f'[{model_name}] Uniformity (All):', uniform_loss(q_emb).numpy())"
   ]
  },
  {
   "cell_type": "markdown",
   "id": "df5831ac",
   "metadata": {},
   "source": [
    "## DiffCSE"
   ]
  },
  {
   "cell_type": "code",
   "execution_count": 3,
   "id": "07924e51",
   "metadata": {},
   "outputs": [],
   "source": [
    "from DiffCSE.diffcse import DiffCSE"
   ]
  },
  {
   "cell_type": "code",
   "execution_count": 4,
   "id": "e2691ba5",
   "metadata": {},
   "outputs": [
    {
     "name": "stderr",
     "output_type": "stream",
     "text": [
      "Some weights of BertModel were not initialized from the model checkpoint at voidism/diffcse-bert-base-uncased-sts and are newly initialized: ['bert.pooler.dense.weight', 'bert.pooler.dense.bias']\n",
      "You should probably TRAIN this model on a down-stream task to be able to use it for predictions and inference.\n",
      "12/04/2022 21:53:50 - INFO - DiffCSE.diffcse.tool -   Use `cls_before_pooler` for DiffCSE models. If you want to use other pooling policy, specify `pooler` argument.\n",
      "100%|██████████| 1/1 [00:00<00:00, 31.94it/s]\n",
      "100%|██████████| 9/9 [00:00<00:00, 28.33it/s]\n",
      "100%|██████████| 9/9 [00:00<00:00, 29.80it/s]\n",
      " 33%|███▎      | 2/6 [00:00<00:00, 19.07it/s]"
     ]
    },
    {
     "name": "stdout",
     "output_type": "stream",
     "text": [
      "[voidism/diffcse-bert-base-uncased-sts] Alignment: 0.28357688\n"
     ]
    },
    {
     "name": "stderr",
     "output_type": "stream",
     "text": [
      "100%|██████████| 6/6 [00:00<00:00, 23.56it/s]\n",
      " 12%|█▏        | 3/26 [00:00<00:00, 24.87it/s]"
     ]
    },
    {
     "name": "stdout",
     "output_type": "stream",
     "text": [
      "[voidism/diffcse-bert-base-uncased-sts] Uniformity: -0.95707244\n"
     ]
    },
    {
     "name": "stderr",
     "output_type": "stream",
     "text": [
      "100%|██████████| 26/26 [00:00<00:00, 26.74it/s]\n"
     ]
    },
    {
     "name": "stdout",
     "output_type": "stream",
     "text": [
      "[voidism/diffcse-bert-base-uncased-sts] Uniformity (All): -0.97734153\n"
     ]
    },
    {
     "name": "stderr",
     "output_type": "stream",
     "text": [
      "Some weights of BertModel were not initialized from the model checkpoint at voidism/diffcse-bert-base-uncased-trans and are newly initialized: ['bert.pooler.dense.weight', 'bert.pooler.dense.bias']\n",
      "You should probably TRAIN this model on a down-stream task to be able to use it for predictions and inference.\n",
      "12/04/2022 21:54:04 - INFO - DiffCSE.diffcse.tool -   Use `cls_before_pooler` for DiffCSE models. If you want to use other pooling policy, specify `pooler` argument.\n",
      "100%|██████████| 1/1 [00:00<00:00, 66.64it/s]\n",
      "100%|██████████| 9/9 [00:00<00:00, 30.00it/s]\n",
      "100%|██████████| 9/9 [00:00<00:00, 30.64it/s]\n",
      " 50%|█████     | 3/6 [00:00<00:00, 28.68it/s]"
     ]
    },
    {
     "name": "stdout",
     "output_type": "stream",
     "text": [
      "[voidism/diffcse-bert-base-uncased-trans] Alignment: 0.2766701\n"
     ]
    },
    {
     "name": "stderr",
     "output_type": "stream",
     "text": [
      "100%|██████████| 6/6 [00:00<00:00, 28.03it/s]\n",
      " 12%|█▏        | 3/26 [00:00<00:00, 24.83it/s]"
     ]
    },
    {
     "name": "stdout",
     "output_type": "stream",
     "text": [
      "[voidism/diffcse-bert-base-uncased-trans] Uniformity: -0.8962289\n"
     ]
    },
    {
     "name": "stderr",
     "output_type": "stream",
     "text": [
      "100%|██████████| 26/26 [00:00<00:00, 26.67it/s]\n"
     ]
    },
    {
     "name": "stdout",
     "output_type": "stream",
     "text": [
      "[voidism/diffcse-bert-base-uncased-trans] Uniformity (All): -0.8996946\n"
     ]
    },
    {
     "name": "stderr",
     "output_type": "stream",
     "text": [
      "Some weights of RobertaModel were not initialized from the model checkpoint at voidism/diffcse-roberta-base-sts and are newly initialized: ['roberta.pooler.dense.weight', 'roberta.pooler.dense.bias']\n",
      "You should probably TRAIN this model on a down-stream task to be able to use it for predictions and inference.\n",
      "12/04/2022 21:54:17 - INFO - DiffCSE.diffcse.tool -   Use `cls_before_pooler` for DiffCSE models. If you want to use other pooling policy, specify `pooler` argument.\n",
      "100%|██████████| 1/1 [00:00<00:00, 65.02it/s]\n",
      "100%|██████████| 9/9 [00:00<00:00, 30.01it/s]\n",
      "100%|██████████| 9/9 [00:00<00:00, 29.78it/s]\n",
      " 50%|█████     | 3/6 [00:00<00:00, 29.95it/s]"
     ]
    },
    {
     "name": "stdout",
     "output_type": "stream",
     "text": [
      "[voidism/diffcse-roberta-base-sts] Alignment: 0.20578939\n"
     ]
    },
    {
     "name": "stderr",
     "output_type": "stream",
     "text": [
      "100%|██████████| 6/6 [00:00<00:00, 28.90it/s]\n",
      " 12%|█▏        | 3/26 [00:00<00:01, 22.59it/s]"
     ]
    },
    {
     "name": "stdout",
     "output_type": "stream",
     "text": [
      "[voidism/diffcse-roberta-base-sts] Uniformity: -0.69976825\n"
     ]
    },
    {
     "name": "stderr",
     "output_type": "stream",
     "text": [
      "100%|██████████| 26/26 [00:00<00:00, 26.46it/s]\n"
     ]
    },
    {
     "name": "stdout",
     "output_type": "stream",
     "text": [
      "[voidism/diffcse-roberta-base-sts] Uniformity (All): -0.7303018\n"
     ]
    },
    {
     "name": "stderr",
     "output_type": "stream",
     "text": [
      "Some weights of RobertaModel were not initialized from the model checkpoint at voidism/diffcse-roberta-base-trans and are newly initialized: ['roberta.pooler.dense.weight', 'roberta.pooler.dense.bias']\n",
      "You should probably TRAIN this model on a down-stream task to be able to use it for predictions and inference.\n",
      "12/04/2022 21:54:30 - INFO - DiffCSE.diffcse.tool -   Use `cls_before_pooler` for DiffCSE models. If you want to use other pooling policy, specify `pooler` argument.\n",
      "100%|██████████| 1/1 [00:00<00:00, 64.08it/s]\n",
      "100%|██████████| 9/9 [00:00<00:00, 30.28it/s]\n",
      "100%|██████████| 9/9 [00:00<00:00, 29.10it/s]\n",
      " 67%|██████▋   | 4/6 [00:00<00:00, 28.87it/s]"
     ]
    },
    {
     "name": "stdout",
     "output_type": "stream",
     "text": [
      "[voidism/diffcse-roberta-base-trans] Alignment: 0.1858467\n"
     ]
    },
    {
     "name": "stderr",
     "output_type": "stream",
     "text": [
      "100%|██████████| 6/6 [00:00<00:00, 29.05it/s]\n",
      " 12%|█▏        | 3/26 [00:00<00:00, 23.85it/s]"
     ]
    },
    {
     "name": "stdout",
     "output_type": "stream",
     "text": [
      "[voidism/diffcse-roberta-base-trans] Uniformity: -0.6210463\n"
     ]
    },
    {
     "name": "stderr",
     "output_type": "stream",
     "text": [
      "100%|██████████| 26/26 [00:00<00:00, 26.75it/s]"
     ]
    },
    {
     "name": "stdout",
     "output_type": "stream",
     "text": [
      "[voidism/diffcse-roberta-base-trans] Uniformity (All): -0.6481909\n",
      "CPU times: user 48 s, sys: 14.6 s, total: 1min 2s\n",
      "Wall time: 50.9 s\n"
     ]
    },
    {
     "name": "stderr",
     "output_type": "stream",
     "text": [
      "\n"
     ]
    }
   ],
   "source": [
    "%%time\n",
    "\n",
    "model_list = [   \n",
    "    'voidism/diffcse-bert-base-uncased-sts',\n",
    "    'voidism/diffcse-bert-base-uncased-trans',\n",
    "    'voidism/diffcse-roberta-base-sts',\n",
    "    'voidism/diffcse-roberta-base-trans'\n",
    "    ]\n",
    "\n",
    "test_sentence = 'This framework generates embeddings for each input sentence'\n",
    "\n",
    "for model_name in model_list:\n",
    "    \n",
    "    model = DiffCSE(model_name)\n",
    "    \n",
    "    # Embedding dimension 체크\n",
    "    if model.encode(test_sentence).shape[0] != 768:\n",
    "        print(f'Embedding dimension for {model_name} is not 768')\n",
    "        break\n",
    "        \n",
    "    # Alignment\n",
    "    q1_emb, q2_emb = get_sentence_embedding_align(align_csv, model)\n",
    "    print(f'[{model_name}] Alignment:', align_loss(q1_emb, q2_emb).numpy())\n",
    "    \n",
    "    # Uniformity\n",
    "    q_emb = get_sentence_embedding_uniform(uniform_csv, model) # train4_uniform.csv 사용\n",
    "    print(f'[{model_name}] Uniformity:', uniform_loss(q_emb).numpy())\n",
    "\n",
    "    q_emb = get_sentence_embedding_uniform_all(uniform_all_csv, model) # final_master_dataset.csv 사용\n",
    "    print(f'[{model_name}] Uniformity (All):', uniform_loss(q_emb).numpy())"
   ]
  },
  {
   "cell_type": "markdown",
   "id": "225508bb",
   "metadata": {},
   "source": [
    "## PromCSE\n",
    "- PromCSE는 코드 구조가 달라서 (args 사용함) 바로 python script로 실행\n",
    "```\n",
    "cd PromCSE\n",
    "python promcse_encoder.py\n",
    "```\n",
    "\n",
    "- 결과\n",
    " - Alignment: 0.90093094\n",
    " - Uniformity: -2.7525558\n",
    " - Uniformity (All): -2.8021905"
   ]
  }
 ],
 "metadata": {
  "kernelspec": {
   "display_name": "Python [conda env:diffcse]",
   "language": "python",
   "name": "conda-env-diffcse-py"
  },
  "language_info": {
   "codemirror_mode": {
    "name": "ipython",
    "version": 3
   },
   "file_extension": ".py",
   "mimetype": "text/x-python",
   "name": "python",
   "nbconvert_exporter": "python",
   "pygments_lexer": "ipython3",
   "version": "3.9.5"
  }
 },
 "nbformat": 4,
 "nbformat_minor": 5
}
